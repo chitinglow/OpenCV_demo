{
 "metadata": {
  "language_info": {
   "codemirror_mode": {
    "name": "ipython",
    "version": 3
   },
   "file_extension": ".py",
   "mimetype": "text/x-python",
   "name": "python",
   "nbconvert_exporter": "python",
   "pygments_lexer": "ipython3",
   "version": "3.8.6-final"
  },
  "orig_nbformat": 2,
  "kernelspec": {
   "name": "python3",
   "display_name": "Python 3.8.6 64-bit",
   "metadata": {
    "interpreter": {
     "hash": "02598af45ba158ab5eaf60961e7b43f91630afc732111da6092db2d15effd802"
    }
   }
  }
 },
 "nbformat": 4,
 "nbformat_minor": 2,
 "cells": [
  {
   "source": [
    "## Read image and video"
   ],
   "cell_type": "markdown",
   "metadata": {}
  },
  {
   "cell_type": "code",
   "execution_count": 2,
   "metadata": {},
   "outputs": [
    {
     "output_type": "execute_result",
     "data": {
      "text/plain": [
       "-1"
      ]
     },
     "metadata": {},
     "execution_count": 2
    }
   ],
   "source": [
    "import cv2 as cv\n",
    "\n",
    "img = cv.imread(r'Resources\\Photos\\cat_large.jpg')\n",
    "\n",
    "# Display image in new window\n",
    "cv.imshow('Cat', img)\n",
    "\n",
    "## wait specificy delay\n",
    "cv.waitKey(0)\n"
   ]
  },
  {
   "cell_type": "code",
   "execution_count": 3,
   "metadata": {},
   "outputs": [
    {
     "output_type": "error",
     "ename": "error",
     "evalue": "OpenCV(4.5.1) C:\\Users\\appveyor\\AppData\\Local\\Temp\\1\\pip-req-build-i1s8y2i1\\opencv\\modules\\highgui\\src\\window.cpp:376: error: (-215:Assertion failed) size.width>0 && size.height>0 in function 'cv::imshow'\n",
     "traceback": [
      "\u001b[1;31m---------------------------------------------------------------------------\u001b[0m",
      "\u001b[1;31merror\u001b[0m                                     Traceback (most recent call last)",
      "\u001b[1;32m<ipython-input-3-1bba09278775>\u001b[0m in \u001b[0;36m<module>\u001b[1;34m\u001b[0m\n\u001b[0;32m      8\u001b[0m     \u001b[0misTrue\u001b[0m\u001b[1;33m,\u001b[0m \u001b[0mframe\u001b[0m \u001b[1;33m=\u001b[0m \u001b[0mcapture\u001b[0m\u001b[1;33m.\u001b[0m\u001b[0mread\u001b[0m\u001b[1;33m(\u001b[0m\u001b[1;33m)\u001b[0m\u001b[1;33m\u001b[0m\u001b[1;33m\u001b[0m\u001b[0m\n\u001b[0;32m      9\u001b[0m \u001b[1;33m\u001b[0m\u001b[0m\n\u001b[1;32m---> 10\u001b[1;33m     \u001b[0mcv\u001b[0m\u001b[1;33m.\u001b[0m\u001b[0mimshow\u001b[0m\u001b[1;33m(\u001b[0m\u001b[1;34m'Video'\u001b[0m\u001b[1;33m,\u001b[0m \u001b[0mframe\u001b[0m\u001b[1;33m)\u001b[0m\u001b[1;33m\u001b[0m\u001b[1;33m\u001b[0m\u001b[0m\n\u001b[0m\u001b[0;32m     11\u001b[0m \u001b[1;33m\u001b[0m\u001b[0m\n\u001b[0;32m     12\u001b[0m     \u001b[1;32mif\u001b[0m \u001b[0mcv\u001b[0m\u001b[1;33m.\u001b[0m\u001b[0mwaitKey\u001b[0m\u001b[1;33m(\u001b[0m\u001b[1;36m20\u001b[0m\u001b[1;33m)\u001b[0m \u001b[1;33m&\u001b[0m \u001b[1;36m0xFF\u001b[0m\u001b[1;33m==\u001b[0m\u001b[0mord\u001b[0m\u001b[1;33m(\u001b[0m\u001b[1;34m'd'\u001b[0m\u001b[1;33m)\u001b[0m\u001b[1;33m:\u001b[0m\u001b[1;33m\u001b[0m\u001b[1;33m\u001b[0m\u001b[0m\n",
      "\u001b[1;31merror\u001b[0m: OpenCV(4.5.1) C:\\Users\\appveyor\\AppData\\Local\\Temp\\1\\pip-req-build-i1s8y2i1\\opencv\\modules\\highgui\\src\\window.cpp:376: error: (-215:Assertion failed) size.width>0 && size.height>0 in function 'cv::imshow'\n"
     ]
    }
   ],
   "source": [
    "## Reading videos\n",
    "# if using 0 it capture the webcam\n",
    "# if giving path it capture video\n",
    "# Reading Videos\n",
    "capture = cv.VideoCapture('Resources/Videos/dog.mp4')\n",
    "\n",
    "while True:\n",
    "    isTrue, frame = capture.read()\n",
    "    \n",
    "    cv.imshow('Video', frame)\n",
    "\n",
    "    if cv.waitKey(20) & 0xFF==ord('d'):\n",
    "        break\n",
    "\n",
    "capture.release()\n",
    "cv.destroyAllWindows()"
   ]
  },
  {
   "source": [
    "## Resizing and Resclaing Frames"
   ],
   "cell_type": "markdown",
   "metadata": {}
  },
  {
   "cell_type": "code",
   "execution_count": 1,
   "metadata": {},
   "outputs": [
    {
     "output_type": "error",
     "ename": "AttributeError",
     "evalue": "'NoneType' object has no attribute 'shape'",
     "traceback": [
      "\u001b[1;31m---------------------------------------------------------------------------\u001b[0m",
      "\u001b[1;31mAttributeError\u001b[0m                            Traceback (most recent call last)",
      "\u001b[1;32m<ipython-input-1-c37e910fae23>\u001b[0m in \u001b[0;36m<module>\u001b[1;34m\u001b[0m\n\u001b[0;32m     15\u001b[0m     \u001b[0misTrue\u001b[0m\u001b[1;33m,\u001b[0m \u001b[0mframe\u001b[0m \u001b[1;33m=\u001b[0m \u001b[0mcapture\u001b[0m\u001b[1;33m.\u001b[0m\u001b[0mread\u001b[0m\u001b[1;33m(\u001b[0m\u001b[1;33m)\u001b[0m\u001b[1;33m\u001b[0m\u001b[1;33m\u001b[0m\u001b[0m\n\u001b[0;32m     16\u001b[0m \u001b[1;33m\u001b[0m\u001b[0m\n\u001b[1;32m---> 17\u001b[1;33m     \u001b[0mframe_resized\u001b[0m \u001b[1;33m=\u001b[0m \u001b[0mrescaleFrame\u001b[0m\u001b[1;33m(\u001b[0m\u001b[0mframe\u001b[0m\u001b[1;33m)\u001b[0m\u001b[1;33m\u001b[0m\u001b[1;33m\u001b[0m\u001b[0m\n\u001b[0m\u001b[0;32m     18\u001b[0m \u001b[1;33m\u001b[0m\u001b[0m\n\u001b[0;32m     19\u001b[0m     \u001b[0mcv\u001b[0m\u001b[1;33m.\u001b[0m\u001b[0mimshow\u001b[0m\u001b[1;33m(\u001b[0m\u001b[1;34m'Video'\u001b[0m\u001b[1;33m,\u001b[0m \u001b[0mframe\u001b[0m\u001b[1;33m)\u001b[0m\u001b[1;33m\u001b[0m\u001b[1;33m\u001b[0m\u001b[0m\n",
      "\u001b[1;32m<ipython-input-1-c37e910fae23>\u001b[0m in \u001b[0;36mrescaleFrame\u001b[1;34m(frame, scale)\u001b[0m\n\u001b[0;32m      2\u001b[0m \u001b[1;33m\u001b[0m\u001b[0m\n\u001b[0;32m      3\u001b[0m \u001b[1;32mdef\u001b[0m \u001b[0mrescaleFrame\u001b[0m\u001b[1;33m(\u001b[0m\u001b[0mframe\u001b[0m\u001b[1;33m,\u001b[0m \u001b[0mscale\u001b[0m\u001b[1;33m=\u001b[0m\u001b[1;36m0.75\u001b[0m\u001b[1;33m)\u001b[0m\u001b[1;33m:\u001b[0m\u001b[1;33m\u001b[0m\u001b[1;33m\u001b[0m\u001b[0m\n\u001b[1;32m----> 4\u001b[1;33m     \u001b[0mwidth\u001b[0m \u001b[1;33m=\u001b[0m \u001b[0mint\u001b[0m\u001b[1;33m(\u001b[0m\u001b[0mframe\u001b[0m\u001b[1;33m.\u001b[0m\u001b[0mshape\u001b[0m\u001b[1;33m[\u001b[0m\u001b[1;36m1\u001b[0m\u001b[1;33m]\u001b[0m \u001b[1;33m*\u001b[0m \u001b[0mscale\u001b[0m\u001b[1;33m)\u001b[0m\u001b[1;33m\u001b[0m\u001b[1;33m\u001b[0m\u001b[0m\n\u001b[0m\u001b[0;32m      5\u001b[0m     \u001b[0mheight\u001b[0m \u001b[1;33m=\u001b[0m \u001b[0mint\u001b[0m\u001b[1;33m(\u001b[0m\u001b[0mframe\u001b[0m\u001b[1;33m.\u001b[0m\u001b[0mshape\u001b[0m\u001b[1;33m[\u001b[0m\u001b[1;36m0\u001b[0m\u001b[1;33m]\u001b[0m \u001b[1;33m*\u001b[0m \u001b[0mscale\u001b[0m\u001b[1;33m)\u001b[0m\u001b[1;33m\u001b[0m\u001b[1;33m\u001b[0m\u001b[0m\n\u001b[0;32m      6\u001b[0m \u001b[1;33m\u001b[0m\u001b[0m\n",
      "\u001b[1;31mAttributeError\u001b[0m: 'NoneType' object has no attribute 'shape'"
     ]
    }
   ],
   "source": [
    "import cv2 as cv\n",
    "\n",
    "def rescaleFrame(frame, scale=0.75):\n",
    "    width = int(frame.shape[1] * scale)\n",
    "    height = int(frame.shape[0] * scale)\n",
    "\n",
    "    dimensions = (width, height)\n",
    "\n",
    "    return cv.resize(frame, dimensions, interpolation=cv.INTER_AREA)\n",
    "\n",
    "\n",
    "capture = cv.VideoCapture('Resources/Videos/dog.mp4')\n",
    "\n",
    "while True:\n",
    "    isTrue, frame = capture.read()\n",
    "    \n",
    "    frame_resized = rescaleFrame(frame, scale = .2)\n",
    "    \n",
    "    cv.imshow('Video', frame)\n",
    "    cv.imshow('Video Resized', frame_resized)\n",
    "\n",
    "    if cv.waitKey(20) & 0xFF==ord('d'):\n",
    "        break\n",
    "\n",
    "capture.release()\n",
    "cv.destroyAllWindows()"
   ]
  },
  {
   "cell_type": "code",
   "execution_count": 1,
   "metadata": {},
   "outputs": [
    {
     "output_type": "execute_result",
     "data": {
      "text/plain": [
       "-1"
      ]
     },
     "metadata": {},
     "execution_count": 1
    }
   ],
   "source": [
    "import cv2 as cv\n",
    "\n",
    "img = cv.imread(r'Resources\\Photos\\cat_large.jpg')\n",
    "\n",
    "# Display image in new window\n",
    "cv.imshow('Cat', img)\n",
    "\n",
    "\n",
    "def rescaleFrame(frame, scale=0.75):\n",
    "    width = int(frame.shape[1] * scale)\n",
    "    height = int(frame.shape[0] * scale)\n",
    "\n",
    "    dimensions = (width, height)\n",
    "\n",
    "    return cv.resize(frame, dimensions, interpolation=cv.INTER_AREA)\n",
    "\n",
    "# Display image in new window\n",
    "resized_image = rescaleFrame(img)\n",
    "cv.imshow('Image', resized_image)\n",
    "\n",
    "## wait specificy delay\n",
    "cv.waitKey(0)"
   ]
  },
  {
   "source": [
    "## Draw and write on images"
   ],
   "cell_type": "markdown",
   "metadata": {}
  },
  {
   "cell_type": "code",
   "execution_count": 14,
   "metadata": {},
   "outputs": [
    {
     "output_type": "execute_result",
     "data": {
      "text/plain": [
       "-1"
      ]
     },
     "metadata": {},
     "execution_count": 14
    }
   ],
   "source": [
    "\n",
    "import cv2 as cv\n",
    "import numpy as np\n",
    "\n",
    "img = cv.imread(r'Resources\\Photos\\cat.jpg')\n",
    " \n",
    "blank = np.zeros((500,500, 3), dtype='uint8')\n",
    "\n",
    "# 1. Paint the image a certain colour\n",
    "#blank[:] = 0,0,255\n",
    "#cv.imshow('Green', blank)\n",
    "\n",
    "## Spefici areas\n",
    "blank[200:300, 300:400] = 0,0,255\n",
    "cv.imshow('Green', blank)\n",
    "\n",
    "# 2. Draw a Rectangle\n",
    "cv.rectangle(blank, (0,0), (blank.shape[1]//2, blank.shape[0]//2), (0,255,0), thickness=-1)\n",
    "cv.imshow('Rectangle', blank)\n",
    "\n",
    "## 3. Draw A circle\n",
    "cv.circle(blank, (blank.shape[1]//2, blank.shape[0]//2), 40, (0,0,255), thickness=-1)\n",
    "cv.imshow('Circle', blank)\n",
    "\n",
    "# 4. Draw a line\n",
    "cv.line(blank, (100,250), (300,400), (255,255,255), thickness=3)\n",
    "cv.imshow('Line', blank)\n",
    "\n",
    "# 5. Write text\n",
    "cv.putText(blank, 'Hello, my name is Jason!!!', (0,225), cv.FONT_HERSHEY_TRIPLEX, 1.0, (0,255,0), 2)\n",
    "cv.imshow('Text', blank)\n",
    "cv.waitKey(0)"
   ]
  },
  {
   "source": [
    "## Essential Functions"
   ],
   "cell_type": "markdown",
   "metadata": {}
  },
  {
   "cell_type": "code",
   "execution_count": 34,
   "metadata": {},
   "outputs": [
    {
     "output_type": "execute_result",
     "data": {
      "text/plain": [
       "-1"
      ]
     },
     "metadata": {},
     "execution_count": 34
    }
   ],
   "source": [
    "import cv2 as cv\n",
    "import numpy as np\n",
    "\n",
    "img = cv.imread(r'Resources\\Photos\\cat.jpg')\n",
    "cv.imshow('Img', img)\n",
    "\n",
    "## Gray scale the image\n",
    "gray = cv.cvtColor(img,cv.COLOR_BGR2GRAY)\n",
    "#cv.imshow('Gray', gray)\n",
    "\n",
    "## Blur the image\n",
    "blur = cv.GaussianBlur(img, (7,7), cv.BORDER_DEFAULT)\n",
    "#cv.imshow('Blur', blur)\n",
    "\n",
    "## Edge cascade\n",
    "canny = cv.Canny(blur, 125, 175)\n",
    "#cv.imshow('canny edge', canny)\n",
    "\n",
    "## Dilating the image\n",
    "dilated = cv.dilate(canny, (3,3), iterations = 3)\n",
    "cv.imshow('dilated', dilated)\n",
    "\n",
    "## Eroding\n",
    "eroded = cv.erode(dilated, (3,3), iterations = 3)\n",
    "cv.imshow('Erode', eroded)\n",
    "\n",
    "## Resize and crop image\n",
    "resized = cv.resize(img, (500,500), interpolation = cv.INTER_CUBIC)\n",
    "cv.imshow('resized', resized)\n",
    "\n",
    "## Croping\n",
    "cropped = img[50:200, 200:400]\n",
    "cv.imshow('cropped', cropped)\n",
    "\n",
    "cv.waitKey(0)"
   ]
  },
  {
   "source": [
    "## Image transformation"
   ],
   "cell_type": "markdown",
   "metadata": {}
  },
  {
   "cell_type": "code",
   "execution_count": 40,
   "metadata": {},
   "outputs": [
    {
     "output_type": "execute_result",
     "data": {
      "text/plain": [
       "-1"
      ]
     },
     "metadata": {},
     "execution_count": 40
    }
   ],
   "source": [
    "#pylint:disable=no-member\n",
    "\n",
    "import cv2 as cv\n",
    "import numpy as np\n",
    "\n",
    "img = cv.imread(r'Resources\\Photos\\park.jpg')\n",
    "cv.imshow('Park', img)\n",
    "\n",
    "# Translation\n",
    "def translate(img, x, y):\n",
    "    transMat = np.float32([[1,0,x],[0,1,y]])\n",
    "    dimensions = (img.shape[1], img.shape[0])\n",
    "    return cv.warpAffine(img, transMat, dimensions)\n",
    "\n",
    "# -x --> Left\n",
    "# -y --> Up\n",
    "# x --> Right\n",
    "# y --> Down\n",
    "\n",
    "translated = translate(img, -100, 100)\n",
    "cv.imshow('Translated', translated)\n",
    "\n",
    "# Rotation\n",
    "def rotate(img, angle, rotPoint=None):\n",
    "    (height,width) = img.shape[:2]\n",
    "\n",
    "    #rotating around center\n",
    "    if rotPoint is None:\n",
    "        rotPoint = (width//2,height//2)\n",
    "    \n",
    "    rotMat = cv.getRotationMatrix2D(rotPoint, angle, 1.0)\n",
    "    dimensions = (width,height)\n",
    "\n",
    "    return cv.warpAffine(img, rotMat, dimensions)\n",
    "\n",
    "rotated = rotate(img, -45)\n",
    "cv.imshow('Rotated', rotated)\n",
    "\n",
    "rotated_rotated = rotate(img, -90)\n",
    "cv.imshow('Rotated Rotated', rotated_rotated)\n",
    "\n",
    "# Resizing\n",
    "resized = cv.resize(img, (500,500), interpolation=cv.INTER_CUBIC)\n",
    "cv.imshow('Resized', resized)\n",
    "\n",
    "# Flipping\n",
    "flip = cv.flip(img, -1)\n",
    "cv.imshow('Flip', flip)\n",
    "\n",
    "# Cropping\n",
    "cropped = img[200:400, 300:400]\n",
    "cv.imshow('Cropped', cropped)\n",
    "\n",
    "cv.waitKey(0)"
   ]
  },
  {
   "source": [
    "## Contour detection"
   ],
   "cell_type": "markdown",
   "metadata": {}
  },
  {
   "cell_type": "code",
   "execution_count": 4,
   "metadata": {},
   "outputs": [
    {
     "output_type": "stream",
     "name": "stdout",
     "text": [
      "380 contour(s) found!\n"
     ]
    },
    {
     "output_type": "execute_result",
     "data": {
      "text/plain": [
       "-1"
      ]
     },
     "metadata": {},
     "execution_count": 4
    }
   ],
   "source": [
    "# Broder \n",
    "\n",
    "import cv2 as cv\n",
    "import numpy as np\n",
    "\n",
    "img = cv.imread(r'Resources\\Photos\\cats.jpg')\n",
    "cv.imshow('img', img)\n",
    "\n",
    "blank = np.zeros(img.shape, dtype='uint8')\n",
    "cv.imshow('Blank', blank)\n",
    "\n",
    "gray = cv.cvtColor(img, cv.COLOR_BGR2GRAY)\n",
    "cv.imshow('Gray', gray)\n",
    "\n",
    "blur = cv.GaussianBlur(gray, (5,5), cv.BORDER_DEFAULT)\n",
    "cv.imshow('Blur', blur)\n",
    "\n",
    "canny = cv.Canny(blur, 125, 175)\n",
    "cv.imshow('Canny Edges', canny)\n",
    "\n",
    "#ret, thresh = cv.threshold(gray, 125, 255, cv.THRESH_BINARY)\n",
    "#cv.imshow('Thresh', thresh)\n",
    "\n",
    "contours, hierarchies = cv.findContours(canny, cv.RETR_LIST, cv.CHAIN_APPROX_SIMPLE)\n",
    "print(f'{len(contours)} contour(s) found!')\n",
    "\n",
    "cv.drawContours(blank, contours, -1, (0,0,255), 1)\n",
    "cv.imshow('Contours Drawn', blank)\n",
    "\n",
    "cv.waitKey(0)"
   ]
  },
  {
   "source": [
    "## Color Spaces\n"
   ],
   "cell_type": "markdown",
   "metadata": {}
  },
  {
   "cell_type": "code",
   "execution_count": 3,
   "metadata": {},
   "outputs": [
    {
     "output_type": "execute_result",
     "data": {
      "text/plain": [
       "-1"
      ]
     },
     "metadata": {},
     "execution_count": 3
    }
   ],
   "source": [
    "import cv2 as cv\n",
    "import numpy as np\n",
    "import matplotlib.pyplot as plt\n",
    "# plt.imshow(img)\n",
    "# plt.show()\n",
    "\n",
    "img = cv.imread(r'Resources\\Photos\\park.jpg')\n",
    "cv.imshow('img', img)\n",
    "\n",
    "# BGR to grayscale\n",
    "gray = cv.cvtColor(img, cv.COLOR_BGR2GRAY)\n",
    "cv.imshow('gray', gray)\n",
    "\n",
    "# BGR to HSV\n",
    "hsv = cv.cvtColor(img, cv.COLOR_BGR2HSV)\n",
    "cv.imshow('hsv', hsv)\n",
    "\n",
    "# BGR to LAB\n",
    "lab = cv.cvtColor(img, cv.COLOR_BGR2LAB)\n",
    "cv.imshow('lab', lab)\n",
    "\n",
    "# BGR to RGB\n",
    "rgb = cv.cvtColor(img, cv.COLOR_BGR2RGB)\n",
    "cv.imshow('RGB', rgb)\n",
    "\n",
    "# HSV to BGR\n",
    "lab_bgr = cv.cvtColor(lab, cv.COLOR_LAB2BGR)\n",
    "cv.imshow('LAB --> BGR', lab_bgr)\n",
    "\n",
    "\n",
    "cv.waitKey(0)"
   ]
  },
  {
   "source": [
    "## Color Channel"
   ],
   "cell_type": "markdown",
   "metadata": {}
  },
  {
   "cell_type": "code",
   "execution_count": 8,
   "metadata": {},
   "outputs": [
    {
     "output_type": "stream",
     "name": "stdout",
     "text": [
      "(427, 640, 3)\n(427, 640)\n(427, 640)\n(427, 640)\n"
     ]
    },
    {
     "output_type": "execute_result",
     "data": {
      "text/plain": [
       "-1"
      ]
     },
     "metadata": {},
     "execution_count": 8
    }
   ],
   "source": [
    "import cv2 as cv\n",
    "import numpy as np\n",
    "\n",
    "img = cv.imread(r'Resources\\Photos\\park.jpg')\n",
    "cv.imshow('img', img)\n",
    "\n",
    "blank = np.zeros(img.shape[:2], dtype='uint8')\n",
    "\n",
    "b,g,r = cv.split(img)\n",
    "\n",
    "blue = cv.merge([b,blank,blank])\n",
    "green = cv.merge([blank,g,blank])\n",
    "red = cv.merge([blank,blank,r])\n",
    "\n",
    "\n",
    "cv.imshow('blue',blue)\n",
    "cv.imshow('green',green)\n",
    "cv.imshow('red',red)\n",
    "\n",
    "print(img.shape)\n",
    "print(b.shape)\n",
    "print(g.shape)\n",
    "print(r.shape)\n",
    "\n",
    "merged = cv.merge([b,g,r])\n",
    "cv.imshow('Merged Image', merged)\n",
    "\n",
    "\n",
    "cv.waitKey(0)\n"
   ]
  },
  {
   "source": [
    "## Smooth and blur"
   ],
   "cell_type": "markdown",
   "metadata": {}
  },
  {
   "cell_type": "code",
   "execution_count": 10,
   "metadata": {},
   "outputs": [
    {
     "output_type": "execute_result",
     "data": {
      "text/plain": [
       "-1"
      ]
     },
     "metadata": {},
     "execution_count": 10
    }
   ],
   "source": [
    "import cv2 as cv\n",
    "import numpy as np\n",
    "\n",
    "img = cv.imread(r'Resources\\Photos\\cats.jpg')\n",
    "cv.imshow('img', img)\n",
    "\n",
    "# Averaging\n",
    "average = cv.blur(img, (3,3))\n",
    "cv.imshow('Average Blur', average)\n",
    "\n",
    "# Gaussian Blur\n",
    "gauss = cv.GaussianBlur(img, (3,3), 0)\n",
    "cv.imshow('Gaussian Blur', gauss)\n",
    "\n",
    "# Median Blur\n",
    "median = cv.medianBlur(img, 3)\n",
    "cv.imshow('Median Blur', median)\n",
    "\n",
    "# Bilateral\n",
    "bilateral = cv.bilateralFilter(img, 10, 35, 25)\n",
    "cv.imshow('Bilateral', bilateral)\n",
    "\n",
    "cv.waitKey(0)"
   ]
  },
  {
   "source": [
    "## Bitwise operator"
   ],
   "cell_type": "markdown",
   "metadata": {}
  },
  {
   "cell_type": "code",
   "execution_count": 11,
   "metadata": {},
   "outputs": [
    {
     "output_type": "execute_result",
     "data": {
      "text/plain": [
       "-1"
      ]
     },
     "metadata": {},
     "execution_count": 11
    }
   ],
   "source": [
    "\n",
    "import cv2 as cv\n",
    "import numpy as np\n",
    "\n",
    "blank = np.zeros((400,400), dtype='uint8')\n",
    "\n",
    "rectangle = cv.rectangle(blank.copy(), (30,30), (370,370), 255, -1)\n",
    "circle = cv.circle(blank.copy(), (200,200), 200, 255, -1)\n",
    "\n",
    "cv.imshow('Rectangle', rectangle)\n",
    "cv.imshow('Circle', circle)\n",
    "\n",
    "# bitwise AND --> intersecting regions\n",
    "bitwise_and = cv.bitwise_and(rectangle, circle)\n",
    "cv.imshow('Bitwise AND', bitwise_and)\n",
    "\n",
    "# bitwise OR --> non-intersecting and intersecting regions\n",
    "bitwise_or = cv.bitwise_or(rectangle, circle)\n",
    "cv.imshow('Bitwise OR', bitwise_or)\n",
    "\n",
    "# bitwise XOR --> non-intersecting regions\n",
    "bitwise_xor = cv.bitwise_xor(rectangle, circle)\n",
    "cv.imshow('Bitwise XOR', bitwise_xor)\n",
    "\n",
    "# bitwise NOT\n",
    "bitwise_not = cv.bitwise_not(circle)\n",
    "cv.imshow('Circle NOT', bitwise_not)\n",
    "\n",
    "cv.waitKey(0)"
   ]
  },
  {
   "source": [
    "## Masking\n"
   ],
   "cell_type": "markdown",
   "metadata": {}
  },
  {
   "cell_type": "code",
   "execution_count": 17,
   "metadata": {},
   "outputs": [
    {
     "output_type": "execute_result",
     "data": {
      "text/plain": [
       "-1"
      ]
     },
     "metadata": {},
     "execution_count": 17
    }
   ],
   "source": [
    "import cv2 as cv\n",
    "import numpy as np\n",
    "\n",
    "img = cv.imread(r'Resources\\Photos\\cats 2.jpg')\n",
    "cv.imshow('img', img)\n",
    "\n",
    "blank = np.zeros(img.shape[:2], dtype='uint8')\n",
    "cv.imshow('Blank Image', blank)\n",
    "\n",
    "mask = cv.circle(blank, (img.shape[1]//2, img.shape[0]//2), 100, 255, -1)\n",
    "cv.imshow('Mask', mask)\n",
    "\n",
    "circle = cv.circle(blank.copy(), (img.shape[1]//2 + 45,img.shape[0]//2), 100, 255, -1)\n",
    "\n",
    "rectangle = cv.rectangle(blank.copy(), (30,30), (370,370), 255, -1)\n",
    "\n",
    "weird_shape = cv.bitwise_and(circle,rectangle)\n",
    "cv.imshow('Weird Shape', weird_shape)\n",
    "\n",
    "masked = cv.bitwise_and(img,img,mask=weird_shape)\n",
    "cv.imshow('Weird Shaped Masked Image', masked)\n",
    "\n",
    "\n",
    "masked = cv.bitwise_and(img, img, mask = mask)\n",
    "cv.imshow('Masked image', masked)\n",
    "\n",
    "\n",
    "\n",
    "cv.waitKey(0)"
   ]
  },
  {
   "source": [
    "## Histogram Computation\n"
   ],
   "cell_type": "markdown",
   "metadata": {}
  },
  {
   "cell_type": "code",
   "execution_count": 22,
   "metadata": {},
   "outputs": [
    {
     "output_type": "display_data",
     "data": {
      "text/plain": "<Figure size 432x288 with 1 Axes>",
      "image/svg+xml": "<?xml version=\"1.0\" encoding=\"utf-8\" standalone=\"no\"?>\r\n<!DOCTYPE svg PUBLIC \"-//W3C//DTD SVG 1.1//EN\"\r\n  \"http://www.w3.org/Graphics/SVG/1.1/DTD/svg11.dtd\">\r\n<!-- Created with matplotlib (https://matplotlib.org/) -->\r\n<svg height=\"277.314375pt\" version=\"1.1\" viewBox=\"0 0 390.6625 277.314375\" width=\"390.6625pt\" xmlns=\"http://www.w3.org/2000/svg\" xmlns:xlink=\"http://www.w3.org/1999/xlink\">\r\n <metadata>\r\n  <rdf:RDF xmlns:cc=\"http://creativecommons.org/ns#\" xmlns:dc=\"http://purl.org/dc/elements/1.1/\" xmlns:rdf=\"http://www.w3.org/1999/02/22-rdf-syntax-ns#\">\r\n   <cc:Work>\r\n    <dc:type rdf:resource=\"http://purl.org/dc/dcmitype/StillImage\"/>\r\n    <dc:date>2021-03-07T20:58:57.426991</dc:date>\r\n    <dc:format>image/svg+xml</dc:format>\r\n    <dc:creator>\r\n     <cc:Agent>\r\n      <dc:title>Matplotlib v3.3.3, https://matplotlib.org/</dc:title>\r\n     </cc:Agent>\r\n    </dc:creator>\r\n   </cc:Work>\r\n  </rdf:RDF>\r\n </metadata>\r\n <defs>\r\n  <style type=\"text/css\">*{stroke-linecap:butt;stroke-linejoin:round;}</style>\r\n </defs>\r\n <g id=\"figure_1\">\r\n  <g id=\"patch_1\">\r\n   <path d=\"M 0 277.314375 \r\nL 390.6625 277.314375 \r\nL 390.6625 0 \r\nL 0 0 \r\nz\r\n\" style=\"fill:none;\"/>\r\n  </g>\r\n  <g id=\"axes_1\">\r\n   <g id=\"patch_2\">\r\n    <path d=\"M 46.965625 239.758125 \r\nL 381.765625 239.758125 \r\nL 381.765625 22.318125 \r\nL 46.965625 22.318125 \r\nz\r\n\" style=\"fill:#ffffff;\"/>\r\n   </g>\r\n   <g id=\"matplotlib.axis_1\">\r\n    <g id=\"xtick_1\">\r\n     <g id=\"line2d_1\">\r\n      <defs>\r\n       <path d=\"M 0 0 \r\nL 0 3.5 \r\n\" id=\"mbff407b5ac\" style=\"stroke:#000000;stroke-width:0.8;\"/>\r\n      </defs>\r\n      <g>\r\n       <use style=\"stroke:#000000;stroke-width:0.8;\" x=\"46.965625\" xlink:href=\"#mbff407b5ac\" y=\"239.758125\"/>\r\n      </g>\r\n     </g>\r\n     <g id=\"text_1\">\r\n      <!-- 0 -->\r\n      <g transform=\"translate(43.784375 254.356562)scale(0.1 -0.1)\">\r\n       <defs>\r\n        <path d=\"M 31.78125 66.40625 \r\nQ 24.171875 66.40625 20.328125 58.90625 \r\nQ 16.5 51.421875 16.5 36.375 \r\nQ 16.5 21.390625 20.328125 13.890625 \r\nQ 24.171875 6.390625 31.78125 6.390625 \r\nQ 39.453125 6.390625 43.28125 13.890625 \r\nQ 47.125 21.390625 47.125 36.375 \r\nQ 47.125 51.421875 43.28125 58.90625 \r\nQ 39.453125 66.40625 31.78125 66.40625 \r\nz\r\nM 31.78125 74.21875 \r\nQ 44.046875 74.21875 50.515625 64.515625 \r\nQ 56.984375 54.828125 56.984375 36.375 \r\nQ 56.984375 17.96875 50.515625 8.265625 \r\nQ 44.046875 -1.421875 31.78125 -1.421875 \r\nQ 19.53125 -1.421875 13.0625 8.265625 \r\nQ 6.59375 17.96875 6.59375 36.375 \r\nQ 6.59375 54.828125 13.0625 64.515625 \r\nQ 19.53125 74.21875 31.78125 74.21875 \r\nz\r\n\" id=\"DejaVuSans-48\"/>\r\n       </defs>\r\n       <use xlink:href=\"#DejaVuSans-48\"/>\r\n      </g>\r\n     </g>\r\n    </g>\r\n    <g id=\"xtick_2\">\r\n     <g id=\"line2d_2\">\r\n      <g>\r\n       <use style=\"stroke:#000000;stroke-width:0.8;\" x=\"112.35625\" xlink:href=\"#mbff407b5ac\" y=\"239.758125\"/>\r\n      </g>\r\n     </g>\r\n     <g id=\"text_2\">\r\n      <!-- 50 -->\r\n      <g transform=\"translate(105.99375 254.356562)scale(0.1 -0.1)\">\r\n       <defs>\r\n        <path d=\"M 10.796875 72.90625 \r\nL 49.515625 72.90625 \r\nL 49.515625 64.59375 \r\nL 19.828125 64.59375 \r\nL 19.828125 46.734375 \r\nQ 21.96875 47.46875 24.109375 47.828125 \r\nQ 26.265625 48.1875 28.421875 48.1875 \r\nQ 40.625 48.1875 47.75 41.5 \r\nQ 54.890625 34.8125 54.890625 23.390625 \r\nQ 54.890625 11.625 47.5625 5.09375 \r\nQ 40.234375 -1.421875 26.90625 -1.421875 \r\nQ 22.3125 -1.421875 17.546875 -0.640625 \r\nQ 12.796875 0.140625 7.71875 1.703125 \r\nL 7.71875 11.625 \r\nQ 12.109375 9.234375 16.796875 8.0625 \r\nQ 21.484375 6.890625 26.703125 6.890625 \r\nQ 35.15625 6.890625 40.078125 11.328125 \r\nQ 45.015625 15.765625 45.015625 23.390625 \r\nQ 45.015625 31 40.078125 35.4375 \r\nQ 35.15625 39.890625 26.703125 39.890625 \r\nQ 22.75 39.890625 18.8125 39.015625 \r\nQ 14.890625 38.140625 10.796875 36.28125 \r\nz\r\n\" id=\"DejaVuSans-53\"/>\r\n       </defs>\r\n       <use xlink:href=\"#DejaVuSans-53\"/>\r\n       <use x=\"63.623047\" xlink:href=\"#DejaVuSans-48\"/>\r\n      </g>\r\n     </g>\r\n    </g>\r\n    <g id=\"xtick_3\">\r\n     <g id=\"line2d_3\">\r\n      <g>\r\n       <use style=\"stroke:#000000;stroke-width:0.8;\" x=\"177.746875\" xlink:href=\"#mbff407b5ac\" y=\"239.758125\"/>\r\n      </g>\r\n     </g>\r\n     <g id=\"text_3\">\r\n      <!-- 100 -->\r\n      <g transform=\"translate(168.203125 254.356562)scale(0.1 -0.1)\">\r\n       <defs>\r\n        <path d=\"M 12.40625 8.296875 \r\nL 28.515625 8.296875 \r\nL 28.515625 63.921875 \r\nL 10.984375 60.40625 \r\nL 10.984375 69.390625 \r\nL 28.421875 72.90625 \r\nL 38.28125 72.90625 \r\nL 38.28125 8.296875 \r\nL 54.390625 8.296875 \r\nL 54.390625 0 \r\nL 12.40625 0 \r\nz\r\n\" id=\"DejaVuSans-49\"/>\r\n       </defs>\r\n       <use xlink:href=\"#DejaVuSans-49\"/>\r\n       <use x=\"63.623047\" xlink:href=\"#DejaVuSans-48\"/>\r\n       <use x=\"127.246094\" xlink:href=\"#DejaVuSans-48\"/>\r\n      </g>\r\n     </g>\r\n    </g>\r\n    <g id=\"xtick_4\">\r\n     <g id=\"line2d_4\">\r\n      <g>\r\n       <use style=\"stroke:#000000;stroke-width:0.8;\" x=\"243.1375\" xlink:href=\"#mbff407b5ac\" y=\"239.758125\"/>\r\n      </g>\r\n     </g>\r\n     <g id=\"text_4\">\r\n      <!-- 150 -->\r\n      <g transform=\"translate(233.59375 254.356562)scale(0.1 -0.1)\">\r\n       <use xlink:href=\"#DejaVuSans-49\"/>\r\n       <use x=\"63.623047\" xlink:href=\"#DejaVuSans-53\"/>\r\n       <use x=\"127.246094\" xlink:href=\"#DejaVuSans-48\"/>\r\n      </g>\r\n     </g>\r\n    </g>\r\n    <g id=\"xtick_5\">\r\n     <g id=\"line2d_5\">\r\n      <g>\r\n       <use style=\"stroke:#000000;stroke-width:0.8;\" x=\"308.528125\" xlink:href=\"#mbff407b5ac\" y=\"239.758125\"/>\r\n      </g>\r\n     </g>\r\n     <g id=\"text_5\">\r\n      <!-- 200 -->\r\n      <g transform=\"translate(298.984375 254.356562)scale(0.1 -0.1)\">\r\n       <defs>\r\n        <path d=\"M 19.1875 8.296875 \r\nL 53.609375 8.296875 \r\nL 53.609375 0 \r\nL 7.328125 0 \r\nL 7.328125 8.296875 \r\nQ 12.9375 14.109375 22.625 23.890625 \r\nQ 32.328125 33.6875 34.8125 36.53125 \r\nQ 39.546875 41.84375 41.421875 45.53125 \r\nQ 43.3125 49.21875 43.3125 52.78125 \r\nQ 43.3125 58.59375 39.234375 62.25 \r\nQ 35.15625 65.921875 28.609375 65.921875 \r\nQ 23.96875 65.921875 18.8125 64.3125 \r\nQ 13.671875 62.703125 7.8125 59.421875 \r\nL 7.8125 69.390625 \r\nQ 13.765625 71.78125 18.9375 73 \r\nQ 24.125 74.21875 28.421875 74.21875 \r\nQ 39.75 74.21875 46.484375 68.546875 \r\nQ 53.21875 62.890625 53.21875 53.421875 \r\nQ 53.21875 48.921875 51.53125 44.890625 \r\nQ 49.859375 40.875 45.40625 35.40625 \r\nQ 44.1875 33.984375 37.640625 27.21875 \r\nQ 31.109375 20.453125 19.1875 8.296875 \r\nz\r\n\" id=\"DejaVuSans-50\"/>\r\n       </defs>\r\n       <use xlink:href=\"#DejaVuSans-50\"/>\r\n       <use x=\"63.623047\" xlink:href=\"#DejaVuSans-48\"/>\r\n       <use x=\"127.246094\" xlink:href=\"#DejaVuSans-48\"/>\r\n      </g>\r\n     </g>\r\n    </g>\r\n    <g id=\"xtick_6\">\r\n     <g id=\"line2d_6\">\r\n      <g>\r\n       <use style=\"stroke:#000000;stroke-width:0.8;\" x=\"373.91875\" xlink:href=\"#mbff407b5ac\" y=\"239.758125\"/>\r\n      </g>\r\n     </g>\r\n     <g id=\"text_6\">\r\n      <!-- 250 -->\r\n      <g transform=\"translate(364.375 254.356562)scale(0.1 -0.1)\">\r\n       <use xlink:href=\"#DejaVuSans-50\"/>\r\n       <use x=\"63.623047\" xlink:href=\"#DejaVuSans-53\"/>\r\n       <use x=\"127.246094\" xlink:href=\"#DejaVuSans-48\"/>\r\n      </g>\r\n     </g>\r\n    </g>\r\n    <g id=\"text_7\">\r\n     <!-- Bins -->\r\n     <g transform=\"translate(203.772656 268.034687)scale(0.1 -0.1)\">\r\n      <defs>\r\n       <path d=\"M 19.671875 34.8125 \r\nL 19.671875 8.109375 \r\nL 35.5 8.109375 \r\nQ 43.453125 8.109375 47.28125 11.40625 \r\nQ 51.125 14.703125 51.125 21.484375 \r\nQ 51.125 28.328125 47.28125 31.5625 \r\nQ 43.453125 34.8125 35.5 34.8125 \r\nz\r\nM 19.671875 64.796875 \r\nL 19.671875 42.828125 \r\nL 34.28125 42.828125 \r\nQ 41.5 42.828125 45.03125 45.53125 \r\nQ 48.578125 48.25 48.578125 53.8125 \r\nQ 48.578125 59.328125 45.03125 62.0625 \r\nQ 41.5 64.796875 34.28125 64.796875 \r\nz\r\nM 9.8125 72.90625 \r\nL 35.015625 72.90625 \r\nQ 46.296875 72.90625 52.390625 68.21875 \r\nQ 58.5 63.53125 58.5 54.890625 \r\nQ 58.5 48.1875 55.375 44.234375 \r\nQ 52.25 40.28125 46.1875 39.3125 \r\nQ 53.46875 37.75 57.5 32.78125 \r\nQ 61.53125 27.828125 61.53125 20.40625 \r\nQ 61.53125 10.640625 54.890625 5.3125 \r\nQ 48.25 0 35.984375 0 \r\nL 9.8125 0 \r\nz\r\n\" id=\"DejaVuSans-66\"/>\r\n       <path d=\"M 9.421875 54.6875 \r\nL 18.40625 54.6875 \r\nL 18.40625 0 \r\nL 9.421875 0 \r\nz\r\nM 9.421875 75.984375 \r\nL 18.40625 75.984375 \r\nL 18.40625 64.59375 \r\nL 9.421875 64.59375 \r\nz\r\n\" id=\"DejaVuSans-105\"/>\r\n       <path d=\"M 54.890625 33.015625 \r\nL 54.890625 0 \r\nL 45.90625 0 \r\nL 45.90625 32.71875 \r\nQ 45.90625 40.484375 42.875 44.328125 \r\nQ 39.84375 48.1875 33.796875 48.1875 \r\nQ 26.515625 48.1875 22.3125 43.546875 \r\nQ 18.109375 38.921875 18.109375 30.90625 \r\nL 18.109375 0 \r\nL 9.078125 0 \r\nL 9.078125 54.6875 \r\nL 18.109375 54.6875 \r\nL 18.109375 46.1875 \r\nQ 21.34375 51.125 25.703125 53.5625 \r\nQ 30.078125 56 35.796875 56 \r\nQ 45.21875 56 50.046875 50.171875 \r\nQ 54.890625 44.34375 54.890625 33.015625 \r\nz\r\n\" id=\"DejaVuSans-110\"/>\r\n       <path d=\"M 44.28125 53.078125 \r\nL 44.28125 44.578125 \r\nQ 40.484375 46.53125 36.375 47.5 \r\nQ 32.28125 48.484375 27.875 48.484375 \r\nQ 21.1875 48.484375 17.84375 46.4375 \r\nQ 14.5 44.390625 14.5 40.28125 \r\nQ 14.5 37.15625 16.890625 35.375 \r\nQ 19.28125 33.59375 26.515625 31.984375 \r\nL 29.59375 31.296875 \r\nQ 39.15625 29.25 43.1875 25.515625 \r\nQ 47.21875 21.78125 47.21875 15.09375 \r\nQ 47.21875 7.46875 41.1875 3.015625 \r\nQ 35.15625 -1.421875 24.609375 -1.421875 \r\nQ 20.21875 -1.421875 15.453125 -0.5625 \r\nQ 10.6875 0.296875 5.421875 2 \r\nL 5.421875 11.28125 \r\nQ 10.40625 8.6875 15.234375 7.390625 \r\nQ 20.0625 6.109375 24.8125 6.109375 \r\nQ 31.15625 6.109375 34.5625 8.28125 \r\nQ 37.984375 10.453125 37.984375 14.40625 \r\nQ 37.984375 18.0625 35.515625 20.015625 \r\nQ 33.0625 21.96875 24.703125 23.78125 \r\nL 21.578125 24.515625 \r\nQ 13.234375 26.265625 9.515625 29.90625 \r\nQ 5.8125 33.546875 5.8125 39.890625 \r\nQ 5.8125 47.609375 11.28125 51.796875 \r\nQ 16.75 56 26.8125 56 \r\nQ 31.78125 56 36.171875 55.265625 \r\nQ 40.578125 54.546875 44.28125 53.078125 \r\nz\r\n\" id=\"DejaVuSans-115\"/>\r\n      </defs>\r\n      <use xlink:href=\"#DejaVuSans-66\"/>\r\n      <use x=\"68.603516\" xlink:href=\"#DejaVuSans-105\"/>\r\n      <use x=\"96.386719\" xlink:href=\"#DejaVuSans-110\"/>\r\n      <use x=\"159.765625\" xlink:href=\"#DejaVuSans-115\"/>\r\n     </g>\r\n    </g>\r\n   </g>\r\n   <g id=\"matplotlib.axis_2\">\r\n    <g id=\"ytick_1\">\r\n     <g id=\"line2d_7\">\r\n      <defs>\r\n       <path d=\"M 0 0 \r\nL -3.5 0 \r\n\" id=\"mfc6c1bdba7\" style=\"stroke:#000000;stroke-width:0.8;\"/>\r\n      </defs>\r\n      <g>\r\n       <use style=\"stroke:#000000;stroke-width:0.8;\" x=\"46.965625\" xlink:href=\"#mfc6c1bdba7\" y=\"229.874489\"/>\r\n      </g>\r\n     </g>\r\n     <g id=\"text_8\">\r\n      <!-- 0 -->\r\n      <g transform=\"translate(33.603125 233.673707)scale(0.1 -0.1)\">\r\n       <use xlink:href=\"#DejaVuSans-48\"/>\r\n      </g>\r\n     </g>\r\n    </g>\r\n    <g id=\"ytick_2\">\r\n     <g id=\"line2d_8\">\r\n      <g>\r\n       <use style=\"stroke:#000000;stroke-width:0.8;\" x=\"46.965625\" xlink:href=\"#mfc6c1bdba7\" y=\"185.947216\"/>\r\n      </g>\r\n     </g>\r\n     <g id=\"text_9\">\r\n      <!-- 100 -->\r\n      <g transform=\"translate(20.878125 189.746435)scale(0.1 -0.1)\">\r\n       <use xlink:href=\"#DejaVuSans-49\"/>\r\n       <use x=\"63.623047\" xlink:href=\"#DejaVuSans-48\"/>\r\n       <use x=\"127.246094\" xlink:href=\"#DejaVuSans-48\"/>\r\n      </g>\r\n     </g>\r\n    </g>\r\n    <g id=\"ytick_3\">\r\n     <g id=\"line2d_9\">\r\n      <g>\r\n       <use style=\"stroke:#000000;stroke-width:0.8;\" x=\"46.965625\" xlink:href=\"#mfc6c1bdba7\" y=\"142.019943\"/>\r\n      </g>\r\n     </g>\r\n     <g id=\"text_10\">\r\n      <!-- 200 -->\r\n      <g transform=\"translate(20.878125 145.819162)scale(0.1 -0.1)\">\r\n       <use xlink:href=\"#DejaVuSans-50\"/>\r\n       <use x=\"63.623047\" xlink:href=\"#DejaVuSans-48\"/>\r\n       <use x=\"127.246094\" xlink:href=\"#DejaVuSans-48\"/>\r\n      </g>\r\n     </g>\r\n    </g>\r\n    <g id=\"ytick_4\">\r\n     <g id=\"line2d_10\">\r\n      <g>\r\n       <use style=\"stroke:#000000;stroke-width:0.8;\" x=\"46.965625\" xlink:href=\"#mfc6c1bdba7\" y=\"98.09267\"/>\r\n      </g>\r\n     </g>\r\n     <g id=\"text_11\">\r\n      <!-- 300 -->\r\n      <g transform=\"translate(20.878125 101.891889)scale(0.1 -0.1)\">\r\n       <defs>\r\n        <path d=\"M 40.578125 39.3125 \r\nQ 47.65625 37.796875 51.625 33 \r\nQ 55.609375 28.21875 55.609375 21.1875 \r\nQ 55.609375 10.40625 48.1875 4.484375 \r\nQ 40.765625 -1.421875 27.09375 -1.421875 \r\nQ 22.515625 -1.421875 17.65625 -0.515625 \r\nQ 12.796875 0.390625 7.625 2.203125 \r\nL 7.625 11.71875 \r\nQ 11.71875 9.328125 16.59375 8.109375 \r\nQ 21.484375 6.890625 26.8125 6.890625 \r\nQ 36.078125 6.890625 40.9375 10.546875 \r\nQ 45.796875 14.203125 45.796875 21.1875 \r\nQ 45.796875 27.640625 41.28125 31.265625 \r\nQ 36.765625 34.90625 28.71875 34.90625 \r\nL 20.21875 34.90625 \r\nL 20.21875 43.015625 \r\nL 29.109375 43.015625 \r\nQ 36.375 43.015625 40.234375 45.921875 \r\nQ 44.09375 48.828125 44.09375 54.296875 \r\nQ 44.09375 59.90625 40.109375 62.90625 \r\nQ 36.140625 65.921875 28.71875 65.921875 \r\nQ 24.65625 65.921875 20.015625 65.03125 \r\nQ 15.375 64.15625 9.8125 62.3125 \r\nL 9.8125 71.09375 \r\nQ 15.4375 72.65625 20.34375 73.4375 \r\nQ 25.25 74.21875 29.59375 74.21875 \r\nQ 40.828125 74.21875 47.359375 69.109375 \r\nQ 53.90625 64.015625 53.90625 55.328125 \r\nQ 53.90625 49.265625 50.4375 45.09375 \r\nQ 46.96875 40.921875 40.578125 39.3125 \r\nz\r\n\" id=\"DejaVuSans-51\"/>\r\n       </defs>\r\n       <use xlink:href=\"#DejaVuSans-51\"/>\r\n       <use x=\"63.623047\" xlink:href=\"#DejaVuSans-48\"/>\r\n       <use x=\"127.246094\" xlink:href=\"#DejaVuSans-48\"/>\r\n      </g>\r\n     </g>\r\n    </g>\r\n    <g id=\"ytick_5\">\r\n     <g id=\"line2d_11\">\r\n      <g>\r\n       <use style=\"stroke:#000000;stroke-width:0.8;\" x=\"46.965625\" xlink:href=\"#mfc6c1bdba7\" y=\"54.165398\"/>\r\n      </g>\r\n     </g>\r\n     <g id=\"text_12\">\r\n      <!-- 400 -->\r\n      <g transform=\"translate(20.878125 57.964616)scale(0.1 -0.1)\">\r\n       <defs>\r\n        <path d=\"M 37.796875 64.3125 \r\nL 12.890625 25.390625 \r\nL 37.796875 25.390625 \r\nz\r\nM 35.203125 72.90625 \r\nL 47.609375 72.90625 \r\nL 47.609375 25.390625 \r\nL 58.015625 25.390625 \r\nL 58.015625 17.1875 \r\nL 47.609375 17.1875 \r\nL 47.609375 0 \r\nL 37.796875 0 \r\nL 37.796875 17.1875 \r\nL 4.890625 17.1875 \r\nL 4.890625 26.703125 \r\nz\r\n\" id=\"DejaVuSans-52\"/>\r\n       </defs>\r\n       <use xlink:href=\"#DejaVuSans-52\"/>\r\n       <use x=\"63.623047\" xlink:href=\"#DejaVuSans-48\"/>\r\n       <use x=\"127.246094\" xlink:href=\"#DejaVuSans-48\"/>\r\n      </g>\r\n     </g>\r\n    </g>\r\n    <g id=\"text_13\">\r\n     <!-- # of pixels -->\r\n     <g transform=\"translate(14.798438 157.662344)rotate(-90)scale(0.1 -0.1)\">\r\n      <defs>\r\n       <path d=\"M 51.125 44 \r\nL 36.921875 44 \r\nL 32.8125 27.6875 \r\nL 47.125 27.6875 \r\nz\r\nM 43.796875 71.78125 \r\nL 38.71875 51.515625 \r\nL 52.984375 51.515625 \r\nL 58.109375 71.78125 \r\nL 65.921875 71.78125 \r\nL 60.890625 51.515625 \r\nL 76.125 51.515625 \r\nL 76.125 44 \r\nL 58.984375 44 \r\nL 54.984375 27.6875 \r\nL 70.515625 27.6875 \r\nL 70.515625 20.21875 \r\nL 53.078125 20.21875 \r\nL 48 0 \r\nL 40.1875 0 \r\nL 45.21875 20.21875 \r\nL 30.90625 20.21875 \r\nL 25.875 0 \r\nL 18.015625 0 \r\nL 23.09375 20.21875 \r\nL 7.71875 20.21875 \r\nL 7.71875 27.6875 \r\nL 24.90625 27.6875 \r\nL 29 44 \r\nL 13.28125 44 \r\nL 13.28125 51.515625 \r\nL 30.90625 51.515625 \r\nL 35.890625 71.78125 \r\nz\r\n\" id=\"DejaVuSans-35\"/>\r\n       <path id=\"DejaVuSans-32\"/>\r\n       <path d=\"M 30.609375 48.390625 \r\nQ 23.390625 48.390625 19.1875 42.75 \r\nQ 14.984375 37.109375 14.984375 27.296875 \r\nQ 14.984375 17.484375 19.15625 11.84375 \r\nQ 23.34375 6.203125 30.609375 6.203125 \r\nQ 37.796875 6.203125 41.984375 11.859375 \r\nQ 46.1875 17.53125 46.1875 27.296875 \r\nQ 46.1875 37.015625 41.984375 42.703125 \r\nQ 37.796875 48.390625 30.609375 48.390625 \r\nz\r\nM 30.609375 56 \r\nQ 42.328125 56 49.015625 48.375 \r\nQ 55.71875 40.765625 55.71875 27.296875 \r\nQ 55.71875 13.875 49.015625 6.21875 \r\nQ 42.328125 -1.421875 30.609375 -1.421875 \r\nQ 18.84375 -1.421875 12.171875 6.21875 \r\nQ 5.515625 13.875 5.515625 27.296875 \r\nQ 5.515625 40.765625 12.171875 48.375 \r\nQ 18.84375 56 30.609375 56 \r\nz\r\n\" id=\"DejaVuSans-111\"/>\r\n       <path d=\"M 37.109375 75.984375 \r\nL 37.109375 68.5 \r\nL 28.515625 68.5 \r\nQ 23.6875 68.5 21.796875 66.546875 \r\nQ 19.921875 64.59375 19.921875 59.515625 \r\nL 19.921875 54.6875 \r\nL 34.71875 54.6875 \r\nL 34.71875 47.703125 \r\nL 19.921875 47.703125 \r\nL 19.921875 0 \r\nL 10.890625 0 \r\nL 10.890625 47.703125 \r\nL 2.296875 47.703125 \r\nL 2.296875 54.6875 \r\nL 10.890625 54.6875 \r\nL 10.890625 58.5 \r\nQ 10.890625 67.625 15.140625 71.796875 \r\nQ 19.390625 75.984375 28.609375 75.984375 \r\nz\r\n\" id=\"DejaVuSans-102\"/>\r\n       <path d=\"M 18.109375 8.203125 \r\nL 18.109375 -20.796875 \r\nL 9.078125 -20.796875 \r\nL 9.078125 54.6875 \r\nL 18.109375 54.6875 \r\nL 18.109375 46.390625 \r\nQ 20.953125 51.265625 25.265625 53.625 \r\nQ 29.59375 56 35.59375 56 \r\nQ 45.5625 56 51.78125 48.09375 \r\nQ 58.015625 40.1875 58.015625 27.296875 \r\nQ 58.015625 14.40625 51.78125 6.484375 \r\nQ 45.5625 -1.421875 35.59375 -1.421875 \r\nQ 29.59375 -1.421875 25.265625 0.953125 \r\nQ 20.953125 3.328125 18.109375 8.203125 \r\nz\r\nM 48.6875 27.296875 \r\nQ 48.6875 37.203125 44.609375 42.84375 \r\nQ 40.53125 48.484375 33.40625 48.484375 \r\nQ 26.265625 48.484375 22.1875 42.84375 \r\nQ 18.109375 37.203125 18.109375 27.296875 \r\nQ 18.109375 17.390625 22.1875 11.75 \r\nQ 26.265625 6.109375 33.40625 6.109375 \r\nQ 40.53125 6.109375 44.609375 11.75 \r\nQ 48.6875 17.390625 48.6875 27.296875 \r\nz\r\n\" id=\"DejaVuSans-112\"/>\r\n       <path d=\"M 54.890625 54.6875 \r\nL 35.109375 28.078125 \r\nL 55.90625 0 \r\nL 45.3125 0 \r\nL 29.390625 21.484375 \r\nL 13.484375 0 \r\nL 2.875 0 \r\nL 24.125 28.609375 \r\nL 4.6875 54.6875 \r\nL 15.28125 54.6875 \r\nL 29.78125 35.203125 \r\nL 44.28125 54.6875 \r\nz\r\n\" id=\"DejaVuSans-120\"/>\r\n       <path d=\"M 56.203125 29.59375 \r\nL 56.203125 25.203125 \r\nL 14.890625 25.203125 \r\nQ 15.484375 15.921875 20.484375 11.0625 \r\nQ 25.484375 6.203125 34.421875 6.203125 \r\nQ 39.59375 6.203125 44.453125 7.46875 \r\nQ 49.3125 8.734375 54.109375 11.28125 \r\nL 54.109375 2.78125 \r\nQ 49.265625 0.734375 44.1875 -0.34375 \r\nQ 39.109375 -1.421875 33.890625 -1.421875 \r\nQ 20.796875 -1.421875 13.15625 6.1875 \r\nQ 5.515625 13.8125 5.515625 26.8125 \r\nQ 5.515625 40.234375 12.765625 48.109375 \r\nQ 20.015625 56 32.328125 56 \r\nQ 43.359375 56 49.78125 48.890625 \r\nQ 56.203125 41.796875 56.203125 29.59375 \r\nz\r\nM 47.21875 32.234375 \r\nQ 47.125 39.59375 43.09375 43.984375 \r\nQ 39.0625 48.390625 32.421875 48.390625 \r\nQ 24.90625 48.390625 20.390625 44.140625 \r\nQ 15.875 39.890625 15.1875 32.171875 \r\nz\r\n\" id=\"DejaVuSans-101\"/>\r\n       <path d=\"M 9.421875 75.984375 \r\nL 18.40625 75.984375 \r\nL 18.40625 0 \r\nL 9.421875 0 \r\nz\r\n\" id=\"DejaVuSans-108\"/>\r\n      </defs>\r\n      <use xlink:href=\"#DejaVuSans-35\"/>\r\n      <use x=\"83.789062\" xlink:href=\"#DejaVuSans-32\"/>\r\n      <use x=\"115.576172\" xlink:href=\"#DejaVuSans-111\"/>\r\n      <use x=\"176.757812\" xlink:href=\"#DejaVuSans-102\"/>\r\n      <use x=\"211.962891\" xlink:href=\"#DejaVuSans-32\"/>\r\n      <use x=\"243.75\" xlink:href=\"#DejaVuSans-112\"/>\r\n      <use x=\"307.226562\" xlink:href=\"#DejaVuSans-105\"/>\r\n      <use x=\"335.009766\" xlink:href=\"#DejaVuSans-120\"/>\r\n      <use x=\"391.064453\" xlink:href=\"#DejaVuSans-101\"/>\r\n      <use x=\"452.587891\" xlink:href=\"#DejaVuSans-108\"/>\r\n      <use x=\"480.371094\" xlink:href=\"#DejaVuSans-115\"/>\r\n     </g>\r\n    </g>\r\n   </g>\r\n   <g id=\"line2d_12\">\r\n    <path clip-path=\"url(#pb1a8292ec2)\" d=\"M 46.965625 51.090489 \r\nL 48.273438 211.864307 \r\nL 49.58125 213.621398 \r\nL 50.889063 215.817761 \r\nL 52.196875 209.22867 \r\nL 53.504688 204.835943 \r\nL 54.8125 202.63958 \r\nL 56.120313 196.489761 \r\nL 57.428125 194.73267 \r\nL 58.735938 183.750852 \r\nL 60.04375 191.218489 \r\nL 61.351563 173.64758 \r\nL 62.659375 175.40467 \r\nL 63.967188 174.526125 \r\nL 65.275 162.665761 \r\nL 66.582813 165.301398 \r\nL 67.890625 161.787216 \r\nL 69.198438 144.216307 \r\nL 70.50625 144.65558 \r\nL 71.814063 148.609034 \r\nL 73.121875 124.449034 \r\nL 74.429688 119.617034 \r\nL 75.7375 127.963216 \r\nL 77.045313 114.785034 \r\nL 78.353125 123.570489 \r\nL 79.660938 106.878125 \r\nL 80.96875 111.270852 \r\nL 82.276563 114.785034 \r\nL 83.584375 106.438852 \r\nL 84.892188 87.110852 \r\nL 86.2 97.653398 \r\nL 87.507813 95.017761 \r\nL 88.815625 90.185761 \r\nL 90.123438 87.550125 \r\nL 91.43125 80.961034 \r\nL 92.739063 79.203943 \r\nL 94.046875 69.10067 \r\nL 95.354688 81.400307 \r\nL 97.970313 44.94067 \r\nL 100.585938 78.76467 \r\nL 101.89375 80.082489 \r\nL 103.201563 84.475216 \r\nL 104.509375 92.382125 \r\nL 105.817188 91.942852 \r\nL 107.125 81.83958 \r\nL 108.432813 95.017761 \r\nL 109.740625 105.121034 \r\nL 111.048438 107.317398 \r\nL 112.35625 118.738489 \r\nL 113.664062 117.42067 \r\nL 114.971875 137.627216 \r\nL 116.279688 124.888307 \r\nL 117.5875 142.898489 \r\nL 118.895313 134.99158 \r\nL 120.203125 142.898489 \r\nL 121.510938 147.291216 \r\nL 122.81875 139.82358 \r\nL 124.126563 153.880307 \r\nL 125.434375 158.712307 \r\nL 126.742188 150.805398 \r\nL 128.05 153.001761 \r\nL 129.357813 163.98358 \r\nL 130.665625 166.179943 \r\nL 131.973438 155.198125 \r\nL 133.28125 171.451216 \r\nL 134.589063 161.787216 \r\nL 135.896875 162.226489 \r\nL 137.204688 160.90867 \r\nL 138.5125 148.609034 \r\nL 139.820312 141.58067 \r\nL 141.128125 152.562489 \r\nL 142.435938 155.637398 \r\nL 143.74375 132.355943 \r\nL 145.051563 147.730489 \r\nL 146.359375 132.795216 \r\nL 147.667188 144.216307 \r\nL 148.975 132.355943 \r\nL 150.282813 127.08467 \r\nL 151.590625 122.691943 \r\nL 152.898438 120.934852 \r\nL 154.20625 117.859943 \r\nL 155.514063 109.074489 \r\nL 156.821875 103.363943 \r\nL 158.129688 122.691943 \r\nL 159.4375 95.457034 \r\nL 160.745313 105.560307 \r\nL 162.053125 98.531943 \r\nL 163.360938 111.710125 \r\nL 164.66875 116.981398 \r\nL 165.976562 113.027943 \r\nL 167.284375 129.720307 \r\nL 168.592188 133.234489 \r\nL 169.9 140.702125 \r\nL 171.207813 138.066489 \r\nL 172.515625 145.534125 \r\nL 173.823438 156.955216 \r\nL 175.13125 166.619216 \r\nL 176.439063 164.862125 \r\nL 177.746875 156.955216 \r\nL 179.054688 163.105034 \r\nL 180.3625 164.862125 \r\nL 181.670313 166.179943 \r\nL 182.978125 171.451216 \r\nL 184.285938 189.461398 \r\nL 185.59375 178.918852 \r\nL 186.901563 176.283216 \r\nL 188.209375 188.582852 \r\nL 189.517188 171.011943 \r\nL 190.825 183.31158 \r\nL 192.132813 174.965398 \r\nL 194.748438 186.386489 \r\nL 196.05625 180.675943 \r\nL 197.364063 188.14358 \r\nL 198.671875 185.507943 \r\nL 199.979688 186.825761 \r\nL 201.2875 192.97558 \r\nL 202.595313 188.582852 \r\nL 203.903125 189.022125 \r\nL 205.210938 183.750852 \r\nL 206.51875 192.097034 \r\nL 207.826563 186.825761 \r\nL 209.134375 185.06867 \r\nL 210.442188 186.825761 \r\nL 211.75 186.825761 \r\nL 213.057813 189.90067 \r\nL 214.365625 181.554489 \r\nL 215.673438 183.750852 \r\nL 216.98125 192.97558 \r\nL 218.289063 185.507943 \r\nL 219.596875 194.293398 \r\nL 220.904688 189.461398 \r\nL 222.2125 189.461398 \r\nL 223.520313 188.14358 \r\nL 224.828125 185.06867 \r\nL 226.135938 195.171943 \r\nL 227.44375 191.657761 \r\nL 228.751563 189.90067 \r\nL 230.059375 189.90067 \r\nL 231.367188 189.022125 \r\nL 233.982813 200.882489 \r\nL 235.290625 188.14358 \r\nL 236.598438 194.293398 \r\nL 237.90625 203.078852 \r\nL 239.214063 197.368307 \r\nL 240.521875 196.050489 \r\nL 241.829688 197.368307 \r\nL 243.1375 201.761034 \r\nL 244.445313 192.536307 \r\nL 245.753125 203.078852 \r\nL 247.060938 203.078852 \r\nL 248.36875 204.39667 \r\nL 249.676563 193.414852 \r\nL 250.984375 190.779216 \r\nL 252.292188 200.882489 \r\nL 253.6 198.246852 \r\nL 254.907813 198.686125 \r\nL 256.215625 199.56467 \r\nL 257.523438 204.39667 \r\nL 258.83125 201.321761 \r\nL 260.139063 195.611216 \r\nL 261.446875 204.835943 \r\nL 262.754687 202.63958 \r\nL 264.0625 203.518125 \r\nL 265.370313 202.200307 \r\nL 266.678125 197.80758 \r\nL 267.985938 203.078852 \r\nL 269.29375 202.200307 \r\nL 270.601562 200.443216 \r\nL 271.909375 209.22867 \r\nL 273.217188 205.275216 \r\nL 274.525 207.47158 \r\nL 275.832812 204.39667 \r\nL 277.140625 207.47158 \r\nL 278.448438 207.032307 \r\nL 279.75625 200.882489 \r\nL 281.064063 201.761034 \r\nL 282.371875 206.153761 \r\nL 283.679688 197.368307 \r\nL 284.9875 204.39667 \r\nL 287.603125 207.032307 \r\nL 288.910937 204.835943 \r\nL 290.21875 203.957398 \r\nL 291.526563 207.47158 \r\nL 292.834375 207.032307 \r\nL 294.142188 211.425034 \r\nL 295.45 206.593034 \r\nL 296.757812 203.518125 \r\nL 298.065625 210.546489 \r\nL 299.373438 210.985761 \r\nL 300.68125 203.518125 \r\nL 301.989062 208.350125 \r\nL 303.296875 203.518125 \r\nL 304.604688 207.032307 \r\nL 305.9125 206.593034 \r\nL 307.220312 214.06067 \r\nL 308.528125 208.789398 \r\nL 309.835938 210.985761 \r\nL 311.14375 207.032307 \r\nL 312.451563 207.47158 \r\nL 313.759375 207.032307 \r\nL 315.067187 213.621398 \r\nL 316.375 214.939216 \r\nL 317.682813 212.742852 \r\nL 318.990625 214.939216 \r\nL 320.298437 217.574852 \r\nL 321.60625 214.499943 \r\nL 322.914062 213.182125 \r\nL 324.221875 214.939216 \r\nL 325.529688 212.30358 \r\nL 326.8375 215.378489 \r\nL 328.145312 215.378489 \r\nL 329.453125 219.331943 \r\nL 330.760938 210.546489 \r\nL 332.06875 213.182125 \r\nL 333.376562 215.378489 \r\nL 334.684375 218.453398 \r\nL 335.992188 219.331943 \r\nL 337.3 221.528307 \r\nL 338.607813 215.817761 \r\nL 339.915625 218.89267 \r\nL 341.223437 220.210489 \r\nL 342.53125 222.406852 \r\nL 343.839063 221.96758 \r\nL 345.146875 220.210489 \r\nL 346.454687 221.089034 \r\nL 347.7625 219.771216 \r\nL 349.070312 224.603216 \r\nL 350.378125 226.360307 \r\nL 351.685938 223.285398 \r\nL 352.99375 222.406852 \r\nL 354.301562 227.238852 \r\nL 355.609375 227.678125 \r\nL 356.917188 224.603216 \r\nL 359.532812 223.72467 \r\nL 360.840625 227.678125 \r\nL 362.148438 224.603216 \r\nL 363.45625 227.678125 \r\nL 364.764063 224.163943 \r\nL 366.071875 228.117398 \r\nL 367.379687 226.360307 \r\nL 368.6875 228.995943 \r\nL 369.995313 228.995943 \r\nL 371.303125 225.921034 \r\nL 372.610937 228.55667 \r\nL 375.226562 229.435216 \r\nL 376.534375 228.995943 \r\nL 377.842188 229.874489 \r\nL 380.457812 229.874489 \r\nL 380.457812 229.874489 \r\n\" style=\"fill:none;stroke:#0000ff;stroke-linecap:square;stroke-width:1.5;\"/>\r\n   </g>\r\n   <g id=\"line2d_13\">\r\n    <path clip-path=\"url(#pb1a8292ec2)\" d=\"M 46.965625 174.526125 \r\nL 48.273438 210.546489 \r\nL 49.58125 208.789398 \r\nL 50.889063 210.107216 \r\nL 52.196875 201.761034 \r\nL 53.504688 196.929034 \r\nL 54.8125 191.657761 \r\nL 56.120313 180.23667 \r\nL 57.428125 182.872307 \r\nL 58.735938 174.526125 \r\nL 60.04375 163.544307 \r\nL 61.351563 167.937034 \r\nL 62.659375 177.161761 \r\nL 63.967188 171.890489 \r\nL 65.275 161.347943 \r\nL 66.582813 164.422852 \r\nL 67.890625 174.086852 \r\nL 69.198438 170.57267 \r\nL 70.50625 167.497761 \r\nL 71.814063 167.497761 \r\nL 73.121875 171.890489 \r\nL 74.429688 174.086852 \r\nL 75.7375 181.554489 \r\nL 77.045313 181.993761 \r\nL 78.353125 168.81558 \r\nL 79.660938 185.947216 \r\nL 80.96875 174.086852 \r\nL 82.276563 165.301398 \r\nL 83.584375 165.74067 \r\nL 86.2 158.712307 \r\nL 87.507813 173.64758 \r\nL 88.815625 156.515943 \r\nL 90.123438 145.094852 \r\nL 91.43125 145.973398 \r\nL 94.046875 110.392307 \r\nL 95.354688 116.102852 \r\nL 96.6625 100.728307 \r\nL 97.970313 99.410489 \r\nL 99.278125 76.129034 \r\nL 100.585938 79.203943 \r\nL 101.89375 77.446852 \r\nL 103.201563 78.76467 \r\nL 104.509375 84.035943 \r\nL 105.817188 76.568307 \r\nL 107.125 94.139216 \r\nL 108.432813 95.896307 \r\nL 109.740625 94.578489 \r\nL 111.048438 94.578489 \r\nL 112.35625 100.289034 \r\nL 113.664062 120.934852 \r\nL 114.971875 110.83158 \r\nL 116.279688 127.963216 \r\nL 117.5875 134.99158 \r\nL 118.895313 125.32758 \r\nL 120.203125 128.402489 \r\nL 121.510938 131.038125 \r\nL 122.81875 137.187943 \r\nL 124.126563 147.291216 \r\nL 125.434375 143.337761 \r\nL 126.742188 136.309398 \r\nL 128.05 143.777034 \r\nL 129.357813 145.973398 \r\nL 130.665625 140.262852 \r\nL 131.973438 143.777034 \r\nL 133.28125 135.430852 \r\nL 134.589063 148.609034 \r\nL 135.896875 127.523943 \r\nL 137.204688 145.534125 \r\nL 138.5125 131.038125 \r\nL 139.820312 133.234489 \r\nL 141.128125 128.402489 \r\nL 142.435938 118.738489 \r\nL 143.74375 102.485398 \r\nL 145.051563 108.635216 \r\nL 146.359375 88.867943 \r\nL 147.667188 98.531943 \r\nL 148.975 110.392307 \r\nL 151.590625 97.653398 \r\nL 152.898438 107.317398 \r\nL 154.20625 114.785034 \r\nL 155.514063 113.906489 \r\nL 156.821875 126.645398 \r\nL 158.129688 130.598852 \r\nL 159.4375 138.505761 \r\nL 160.745313 137.187943 \r\nL 162.053125 147.291216 \r\nL 163.360938 151.683943 \r\nL 164.66875 153.001761 \r\nL 165.976562 145.973398 \r\nL 167.284375 153.441034 \r\nL 168.592188 153.880307 \r\nL 169.9 147.730489 \r\nL 171.207813 154.758852 \r\nL 172.515625 164.422852 \r\nL 173.823438 161.787216 \r\nL 175.13125 169.694125 \r\nL 176.439063 165.301398 \r\nL 177.746875 169.694125 \r\nL 179.054688 179.358125 \r\nL 181.670313 164.422852 \r\nL 182.978125 175.40467 \r\nL 184.285938 178.918852 \r\nL 185.59375 179.797398 \r\nL 186.901563 170.57267 \r\nL 188.209375 195.171943 \r\nL 189.517188 173.64758 \r\nL 190.825 180.675943 \r\nL 192.132813 174.965398 \r\nL 193.440625 186.386489 \r\nL 194.748438 188.14358 \r\nL 196.05625 183.31158 \r\nL 197.364063 188.14358 \r\nL 198.671875 190.339943 \r\nL 199.979688 180.675943 \r\nL 201.2875 188.582852 \r\nL 202.595313 188.14358 \r\nL 203.903125 183.750852 \r\nL 205.210938 182.433034 \r\nL 206.51875 190.779216 \r\nL 207.826563 185.06867 \r\nL 209.134375 194.73267 \r\nL 210.442188 196.050489 \r\nL 211.75 189.461398 \r\nL 213.057813 192.097034 \r\nL 214.365625 191.657761 \r\nL 215.673438 189.90067 \r\nL 216.98125 189.90067 \r\nL 218.289063 182.433034 \r\nL 219.596875 178.918852 \r\nL 220.904688 184.190125 \r\nL 222.2125 193.414852 \r\nL 223.520313 181.993761 \r\nL 224.828125 186.386489 \r\nL 226.135938 183.31158 \r\nL 227.44375 190.779216 \r\nL 228.751563 181.554489 \r\nL 230.059375 179.797398 \r\nL 232.675 183.31158 \r\nL 233.982813 189.461398 \r\nL 235.290625 185.507943 \r\nL 236.598438 180.675943 \r\nL 237.90625 185.507943 \r\nL 239.214063 189.461398 \r\nL 240.521875 187.704307 \r\nL 241.829688 182.872307 \r\nL 243.1375 174.086852 \r\nL 244.445313 185.947216 \r\nL 245.753125 174.965398 \r\nL 247.060938 181.115216 \r\nL 248.36875 184.190125 \r\nL 249.676563 178.040307 \r\nL 250.984375 178.040307 \r\nL 252.292188 182.872307 \r\nL 253.6 191.657761 \r\nL 254.907813 178.918852 \r\nL 256.215625 181.993761 \r\nL 257.523438 176.283216 \r\nL 258.83125 175.843943 \r\nL 260.139063 179.797398 \r\nL 261.446875 185.507943 \r\nL 262.754687 184.629398 \r\nL 264.0625 186.825761 \r\nL 265.370313 175.843943 \r\nL 266.678125 181.554489 \r\nL 267.985938 182.433034 \r\nL 269.29375 189.90067 \r\nL 270.601562 189.90067 \r\nL 271.909375 192.097034 \r\nL 273.217188 196.050489 \r\nL 274.525 191.218489 \r\nL 275.832812 193.414852 \r\nL 277.140625 186.386489 \r\nL 278.448438 201.761034 \r\nL 279.75625 191.657761 \r\nL 281.064063 188.582852 \r\nL 282.371875 192.536307 \r\nL 283.679688 191.657761 \r\nL 284.9875 188.14358 \r\nL 286.295313 195.171943 \r\nL 287.603125 194.293398 \r\nL 288.910937 189.90067 \r\nL 290.21875 188.14358 \r\nL 291.526563 194.293398 \r\nL 292.834375 196.929034 \r\nL 294.142188 191.218489 \r\nL 295.45 195.171943 \r\nL 296.757812 194.293398 \r\nL 298.065625 199.56467 \r\nL 299.373438 200.443216 \r\nL 300.68125 207.910852 \r\nL 301.989062 201.761034 \r\nL 303.296875 205.275216 \r\nL 304.604688 206.153761 \r\nL 305.9125 203.518125 \r\nL 307.220312 207.47158 \r\nL 308.528125 203.518125 \r\nL 311.14375 207.910852 \r\nL 312.451563 202.200307 \r\nL 313.759375 208.350125 \r\nL 315.067187 207.032307 \r\nL 316.375 210.985761 \r\nL 317.682813 207.032307 \r\nL 318.990625 204.39667 \r\nL 320.298437 209.667943 \r\nL 321.60625 202.200307 \r\nL 322.914062 204.835943 \r\nL 324.221875 210.985761 \r\nL 325.529688 203.518125 \r\nL 326.8375 210.985761 \r\nL 328.145312 210.546489 \r\nL 329.453125 210.985761 \r\nL 330.760938 214.499943 \r\nL 332.06875 217.13558 \r\nL 333.376562 211.425034 \r\nL 334.684375 213.621398 \r\nL 335.992188 215.378489 \r\nL 337.3 216.257034 \r\nL 338.607813 211.864307 \r\nL 339.915625 212.742852 \r\nL 341.223437 219.331943 \r\nL 342.53125 217.574852 \r\nL 343.839063 218.014125 \r\nL 345.146875 219.771216 \r\nL 346.454687 219.771216 \r\nL 347.7625 219.331943 \r\nL 349.070312 222.406852 \r\nL 350.378125 223.285398 \r\nL 351.685938 223.285398 \r\nL 354.301562 226.79958 \r\nL 356.917188 223.285398 \r\nL 358.225 226.360307 \r\nL 359.532812 225.481761 \r\nL 360.840625 225.042489 \r\nL 362.148438 226.79958 \r\nL 363.45625 224.163943 \r\nL 364.764063 224.163943 \r\nL 366.071875 226.360307 \r\nL 367.379687 224.163943 \r\nL 368.6875 226.360307 \r\nL 369.995313 224.603216 \r\nL 372.610937 225.481761 \r\nL 373.91875 228.55667 \r\nL 375.226562 229.435216 \r\nL 376.534375 227.678125 \r\nL 377.842188 226.79958 \r\nL 379.15 227.238852 \r\nL 380.457812 228.55667 \r\nL 380.457812 228.55667 \r\n\" style=\"fill:none;stroke:#008000;stroke-linecap:square;stroke-width:1.5;\"/>\r\n   </g>\r\n   <g id=\"line2d_14\">\r\n    <path clip-path=\"url(#pb1a8292ec2)\" d=\"M 46.965625 225.042489 \r\nL 48.273438 228.55667 \r\nL 49.58125 229.435216 \r\nL 50.889063 224.163943 \r\nL 53.504688 226.79958 \r\nL 54.8125 219.771216 \r\nL 56.120313 214.939216 \r\nL 57.428125 217.13558 \r\nL 58.735938 221.089034 \r\nL 60.04375 211.425034 \r\nL 61.351563 205.275216 \r\nL 62.659375 211.864307 \r\nL 63.967188 208.350125 \r\nL 65.275 207.032307 \r\nL 66.582813 198.686125 \r\nL 67.890625 200.003943 \r\nL 69.198438 200.003943 \r\nL 70.50625 199.125398 \r\nL 71.814063 191.657761 \r\nL 73.121875 188.14358 \r\nL 74.429688 193.414852 \r\nL 75.7375 189.022125 \r\nL 77.045313 189.461398 \r\nL 78.353125 182.872307 \r\nL 79.660938 192.536307 \r\nL 80.96875 185.06867 \r\nL 82.276563 175.40467 \r\nL 83.584375 171.011943 \r\nL 84.892188 174.086852 \r\nL 86.2 168.376307 \r\nL 87.507813 145.094852 \r\nL 88.815625 156.515943 \r\nL 90.123438 145.973398 \r\nL 91.43125 158.712307 \r\nL 92.739063 149.926852 \r\nL 94.046875 130.598852 \r\nL 95.354688 137.187943 \r\nL 96.6625 144.65558 \r\nL 97.970313 133.234489 \r\nL 99.278125 113.467216 \r\nL 100.585938 112.149398 \r\nL 101.89375 88.867943 \r\nL 103.201563 68.661398 \r\nL 104.509375 55.922489 \r\nL 105.817188 58.118852 \r\nL 107.125 44.501398 \r\nL 108.432813 32.201761 \r\nL 109.740625 35.715943 \r\nL 111.048438 48.894125 \r\nL 112.35625 43.622852 \r\nL 113.664062 35.715943 \r\nL 114.971875 51.969034 \r\nL 116.279688 65.147216 \r\nL 117.5875 65.586489 \r\nL 118.895313 97.653398 \r\nL 120.203125 95.896307 \r\nL 121.510938 107.317398 \r\nL 122.81875 102.046125 \r\nL 124.126563 120.056307 \r\nL 125.434375 121.374125 \r\nL 126.742188 117.859943 \r\nL 128.05 131.477398 \r\nL 129.357813 131.477398 \r\nL 130.665625 136.309398 \r\nL 131.973438 130.598852 \r\nL 133.28125 149.048307 \r\nL 134.589063 150.366125 \r\nL 135.896875 124.009761 \r\nL 137.204688 136.74867 \r\nL 138.5125 139.384307 \r\nL 139.820312 145.973398 \r\nL 141.128125 149.926852 \r\nL 142.435938 134.552307 \r\nL 143.74375 144.216307 \r\nL 145.051563 131.91667 \r\nL 146.359375 143.337761 \r\nL 147.667188 148.169761 \r\nL 150.282813 133.673761 \r\nL 151.590625 141.58067 \r\nL 152.898438 125.32758 \r\nL 155.514063 142.019943 \r\nL 156.821875 130.15958 \r\nL 158.129688 144.65558 \r\nL 159.4375 138.066489 \r\nL 160.745313 134.552307 \r\nL 162.053125 162.226489 \r\nL 163.360938 153.880307 \r\nL 164.66875 144.216307 \r\nL 165.976562 158.273034 \r\nL 167.284375 160.469398 \r\nL 168.592188 156.515943 \r\nL 169.9 159.15158 \r\nL 171.207813 163.98358 \r\nL 172.515625 165.301398 \r\nL 173.823438 167.497761 \r\nL 175.13125 170.57267 \r\nL 176.439063 172.769034 \r\nL 179.054688 160.030125 \r\nL 180.3625 161.787216 \r\nL 181.670313 179.358125 \r\nL 182.978125 162.226489 \r\nL 184.285938 167.937034 \r\nL 186.901563 168.81558 \r\nL 188.209375 175.40467 \r\nL 189.517188 178.918852 \r\nL 190.825 171.890489 \r\nL 192.132813 183.750852 \r\nL 193.440625 175.40467 \r\nL 196.05625 189.022125 \r\nL 197.364063 180.675943 \r\nL 198.671875 183.750852 \r\nL 199.979688 190.779216 \r\nL 201.2875 182.872307 \r\nL 202.595313 182.433034 \r\nL 203.903125 186.825761 \r\nL 205.210938 191.657761 \r\nL 206.51875 185.947216 \r\nL 207.826563 197.80758 \r\nL 209.134375 185.507943 \r\nL 210.442188 194.293398 \r\nL 211.75 192.097034 \r\nL 213.057813 191.657761 \r\nL 214.365625 184.190125 \r\nL 215.673438 189.90067 \r\nL 216.98125 189.90067 \r\nL 218.289063 187.704307 \r\nL 219.596875 196.050489 \r\nL 220.904688 191.657761 \r\nL 222.2125 192.536307 \r\nL 223.520313 188.14358 \r\nL 224.828125 180.23667 \r\nL 226.135938 190.779216 \r\nL 227.44375 190.339943 \r\nL 228.751563 185.947216 \r\nL 230.059375 180.675943 \r\nL 231.367188 191.218489 \r\nL 232.675 184.629398 \r\nL 233.982813 175.843943 \r\nL 235.290625 188.582852 \r\nL 236.598438 185.06867 \r\nL 237.90625 188.14358 \r\nL 239.214063 189.022125 \r\nL 240.521875 173.208307 \r\nL 241.829688 182.433034 \r\nL 243.1375 187.704307 \r\nL 244.445313 182.433034 \r\nL 245.753125 179.358125 \r\nL 247.060938 179.797398 \r\nL 248.36875 177.161761 \r\nL 249.676563 174.086852 \r\nL 250.984375 166.179943 \r\nL 252.292188 179.797398 \r\nL 253.6 171.890489 \r\nL 254.907813 174.965398 \r\nL 256.215625 170.133398 \r\nL 257.523438 167.937034 \r\nL 258.83125 171.890489 \r\nL 260.139063 180.675943 \r\nL 261.446875 166.179943 \r\nL 262.754687 180.675943 \r\nL 264.0625 178.47958 \r\nL 265.370313 175.40467 \r\nL 266.678125 179.797398 \r\nL 267.985938 178.918852 \r\nL 269.29375 171.011943 \r\nL 270.601562 171.011943 \r\nL 271.909375 188.14358 \r\nL 273.217188 181.993761 \r\nL 274.525 177.601034 \r\nL 275.832812 180.675943 \r\nL 277.140625 184.190125 \r\nL 278.448438 187.265034 \r\nL 279.75625 189.90067 \r\nL 281.064063 176.722489 \r\nL 282.371875 182.433034 \r\nL 283.679688 180.23667 \r\nL 284.9875 182.872307 \r\nL 286.295313 189.022125 \r\nL 287.603125 188.14358 \r\nL 288.910937 192.536307 \r\nL 290.21875 202.200307 \r\nL 291.526563 188.582852 \r\nL 292.834375 193.854125 \r\nL 294.142188 185.06867 \r\nL 295.45 195.611216 \r\nL 296.757812 191.657761 \r\nL 298.065625 189.90067 \r\nL 299.373438 188.582852 \r\nL 300.68125 192.097034 \r\nL 301.989062 191.218489 \r\nL 303.296875 179.358125 \r\nL 304.604688 184.629398 \r\nL 305.9125 197.80758 \r\nL 307.220312 192.97558 \r\nL 308.528125 192.536307 \r\nL 309.835938 191.218489 \r\nL 311.14375 189.022125 \r\nL 312.451563 193.854125 \r\nL 313.759375 190.779216 \r\nL 315.067187 194.293398 \r\nL 316.375 201.321761 \r\nL 317.682813 207.47158 \r\nL 318.990625 202.200307 \r\nL 320.298437 202.200307 \r\nL 321.60625 206.593034 \r\nL 322.914062 203.518125 \r\nL 324.221875 207.910852 \r\nL 325.529688 210.546489 \r\nL 326.8375 208.350125 \r\nL 328.145312 213.182125 \r\nL 329.453125 213.182125 \r\nL 330.760938 217.13558 \r\nL 332.06875 215.378489 \r\nL 333.376562 216.696307 \r\nL 334.684375 212.742852 \r\nL 335.992188 215.817761 \r\nL 337.3 218.014125 \r\nL 338.607813 217.574852 \r\nL 339.915625 215.817761 \r\nL 341.223437 219.771216 \r\nL 342.53125 220.210489 \r\nL 343.839063 218.453398 \r\nL 345.146875 218.89267 \r\nL 346.454687 218.453398 \r\nL 347.7625 222.406852 \r\nL 349.070312 220.210489 \r\nL 350.378125 224.603216 \r\nL 351.685938 222.406852 \r\nL 352.99375 221.528307 \r\nL 354.301562 223.72467 \r\nL 355.609375 217.13558 \r\nL 356.917188 221.96758 \r\nL 358.225 219.331943 \r\nL 359.532812 222.846125 \r\nL 360.840625 220.649761 \r\nL 362.148438 221.96758 \r\nL 363.45625 221.528307 \r\nL 364.764063 220.210489 \r\nL 366.071875 220.649761 \r\nL 367.379687 217.574852 \r\nL 368.6875 219.771216 \r\nL 369.995313 221.528307 \r\nL 371.303125 222.406852 \r\nL 372.610937 222.406852 \r\nL 373.91875 224.163943 \r\nL 375.226562 222.406852 \r\nL 376.534375 225.481761 \r\nL 377.842188 224.603216 \r\nL 379.15 225.921034 \r\nL 380.457812 195.171943 \r\nL 380.457812 195.171943 \r\n\" style=\"fill:none;stroke:#ff0000;stroke-linecap:square;stroke-width:1.5;\"/>\r\n   </g>\r\n   <g id=\"patch_3\">\r\n    <path d=\"M 46.965625 239.758125 \r\nL 46.965625 22.318125 \r\n\" style=\"fill:none;stroke:#000000;stroke-linecap:square;stroke-linejoin:miter;stroke-width:0.8;\"/>\r\n   </g>\r\n   <g id=\"patch_4\">\r\n    <path d=\"M 381.765625 239.758125 \r\nL 381.765625 22.318125 \r\n\" style=\"fill:none;stroke:#000000;stroke-linecap:square;stroke-linejoin:miter;stroke-width:0.8;\"/>\r\n   </g>\r\n   <g id=\"patch_5\">\r\n    <path d=\"M 46.965625 239.758125 \r\nL 381.765625 239.758125 \r\n\" style=\"fill:none;stroke:#000000;stroke-linecap:square;stroke-linejoin:miter;stroke-width:0.8;\"/>\r\n   </g>\r\n   <g id=\"patch_6\">\r\n    <path d=\"M 46.965625 22.318125 \r\nL 381.765625 22.318125 \r\n\" style=\"fill:none;stroke:#000000;stroke-linecap:square;stroke-linejoin:miter;stroke-width:0.8;\"/>\r\n   </g>\r\n   <g id=\"text_14\">\r\n    <!-- Colour Histogram -->\r\n    <g transform=\"translate(161.865625 16.318125)scale(0.12 -0.12)\">\r\n     <defs>\r\n      <path d=\"M 64.40625 67.28125 \r\nL 64.40625 56.890625 \r\nQ 59.421875 61.53125 53.78125 63.8125 \r\nQ 48.140625 66.109375 41.796875 66.109375 \r\nQ 29.296875 66.109375 22.65625 58.46875 \r\nQ 16.015625 50.828125 16.015625 36.375 \r\nQ 16.015625 21.96875 22.65625 14.328125 \r\nQ 29.296875 6.6875 41.796875 6.6875 \r\nQ 48.140625 6.6875 53.78125 8.984375 \r\nQ 59.421875 11.28125 64.40625 15.921875 \r\nL 64.40625 5.609375 \r\nQ 59.234375 2.09375 53.4375 0.328125 \r\nQ 47.65625 -1.421875 41.21875 -1.421875 \r\nQ 24.65625 -1.421875 15.125 8.703125 \r\nQ 5.609375 18.84375 5.609375 36.375 \r\nQ 5.609375 53.953125 15.125 64.078125 \r\nQ 24.65625 74.21875 41.21875 74.21875 \r\nQ 47.75 74.21875 53.53125 72.484375 \r\nQ 59.328125 70.75 64.40625 67.28125 \r\nz\r\n\" id=\"DejaVuSans-67\"/>\r\n      <path d=\"M 8.5 21.578125 \r\nL 8.5 54.6875 \r\nL 17.484375 54.6875 \r\nL 17.484375 21.921875 \r\nQ 17.484375 14.15625 20.5 10.265625 \r\nQ 23.53125 6.390625 29.59375 6.390625 \r\nQ 36.859375 6.390625 41.078125 11.03125 \r\nQ 45.3125 15.671875 45.3125 23.6875 \r\nL 45.3125 54.6875 \r\nL 54.296875 54.6875 \r\nL 54.296875 0 \r\nL 45.3125 0 \r\nL 45.3125 8.40625 \r\nQ 42.046875 3.421875 37.71875 1 \r\nQ 33.40625 -1.421875 27.6875 -1.421875 \r\nQ 18.265625 -1.421875 13.375 4.4375 \r\nQ 8.5 10.296875 8.5 21.578125 \r\nz\r\nM 31.109375 56 \r\nz\r\n\" id=\"DejaVuSans-117\"/>\r\n      <path d=\"M 41.109375 46.296875 \r\nQ 39.59375 47.171875 37.8125 47.578125 \r\nQ 36.03125 48 33.890625 48 \r\nQ 26.265625 48 22.1875 43.046875 \r\nQ 18.109375 38.09375 18.109375 28.8125 \r\nL 18.109375 0 \r\nL 9.078125 0 \r\nL 9.078125 54.6875 \r\nL 18.109375 54.6875 \r\nL 18.109375 46.1875 \r\nQ 20.953125 51.171875 25.484375 53.578125 \r\nQ 30.03125 56 36.53125 56 \r\nQ 37.453125 56 38.578125 55.875 \r\nQ 39.703125 55.765625 41.0625 55.515625 \r\nz\r\n\" id=\"DejaVuSans-114\"/>\r\n      <path d=\"M 9.8125 72.90625 \r\nL 19.671875 72.90625 \r\nL 19.671875 43.015625 \r\nL 55.515625 43.015625 \r\nL 55.515625 72.90625 \r\nL 65.375 72.90625 \r\nL 65.375 0 \r\nL 55.515625 0 \r\nL 55.515625 34.71875 \r\nL 19.671875 34.71875 \r\nL 19.671875 0 \r\nL 9.8125 0 \r\nz\r\n\" id=\"DejaVuSans-72\"/>\r\n      <path d=\"M 18.3125 70.21875 \r\nL 18.3125 54.6875 \r\nL 36.8125 54.6875 \r\nL 36.8125 47.703125 \r\nL 18.3125 47.703125 \r\nL 18.3125 18.015625 \r\nQ 18.3125 11.328125 20.140625 9.421875 \r\nQ 21.96875 7.515625 27.59375 7.515625 \r\nL 36.8125 7.515625 \r\nL 36.8125 0 \r\nL 27.59375 0 \r\nQ 17.1875 0 13.234375 3.875 \r\nQ 9.28125 7.765625 9.28125 18.015625 \r\nL 9.28125 47.703125 \r\nL 2.6875 47.703125 \r\nL 2.6875 54.6875 \r\nL 9.28125 54.6875 \r\nL 9.28125 70.21875 \r\nz\r\n\" id=\"DejaVuSans-116\"/>\r\n      <path d=\"M 45.40625 27.984375 \r\nQ 45.40625 37.75 41.375 43.109375 \r\nQ 37.359375 48.484375 30.078125 48.484375 \r\nQ 22.859375 48.484375 18.828125 43.109375 \r\nQ 14.796875 37.75 14.796875 27.984375 \r\nQ 14.796875 18.265625 18.828125 12.890625 \r\nQ 22.859375 7.515625 30.078125 7.515625 \r\nQ 37.359375 7.515625 41.375 12.890625 \r\nQ 45.40625 18.265625 45.40625 27.984375 \r\nz\r\nM 54.390625 6.78125 \r\nQ 54.390625 -7.171875 48.1875 -13.984375 \r\nQ 42 -20.796875 29.203125 -20.796875 \r\nQ 24.46875 -20.796875 20.265625 -20.09375 \r\nQ 16.0625 -19.390625 12.109375 -17.921875 \r\nL 12.109375 -9.1875 \r\nQ 16.0625 -11.328125 19.921875 -12.34375 \r\nQ 23.78125 -13.375 27.78125 -13.375 \r\nQ 36.625 -13.375 41.015625 -8.765625 \r\nQ 45.40625 -4.15625 45.40625 5.171875 \r\nL 45.40625 9.625 \r\nQ 42.625 4.78125 38.28125 2.390625 \r\nQ 33.9375 0 27.875 0 \r\nQ 17.828125 0 11.671875 7.65625 \r\nQ 5.515625 15.328125 5.515625 27.984375 \r\nQ 5.515625 40.671875 11.671875 48.328125 \r\nQ 17.828125 56 27.875 56 \r\nQ 33.9375 56 38.28125 53.609375 \r\nQ 42.625 51.21875 45.40625 46.390625 \r\nL 45.40625 54.6875 \r\nL 54.390625 54.6875 \r\nz\r\n\" id=\"DejaVuSans-103\"/>\r\n      <path d=\"M 34.28125 27.484375 \r\nQ 23.390625 27.484375 19.1875 25 \r\nQ 14.984375 22.515625 14.984375 16.5 \r\nQ 14.984375 11.71875 18.140625 8.90625 \r\nQ 21.296875 6.109375 26.703125 6.109375 \r\nQ 34.1875 6.109375 38.703125 11.40625 \r\nQ 43.21875 16.703125 43.21875 25.484375 \r\nL 43.21875 27.484375 \r\nz\r\nM 52.203125 31.203125 \r\nL 52.203125 0 \r\nL 43.21875 0 \r\nL 43.21875 8.296875 \r\nQ 40.140625 3.328125 35.546875 0.953125 \r\nQ 30.953125 -1.421875 24.3125 -1.421875 \r\nQ 15.921875 -1.421875 10.953125 3.296875 \r\nQ 6 8.015625 6 15.921875 \r\nQ 6 25.140625 12.171875 29.828125 \r\nQ 18.359375 34.515625 30.609375 34.515625 \r\nL 43.21875 34.515625 \r\nL 43.21875 35.40625 \r\nQ 43.21875 41.609375 39.140625 45 \r\nQ 35.0625 48.390625 27.6875 48.390625 \r\nQ 23 48.390625 18.546875 47.265625 \r\nQ 14.109375 46.140625 10.015625 43.890625 \r\nL 10.015625 52.203125 \r\nQ 14.9375 54.109375 19.578125 55.046875 \r\nQ 24.21875 56 28.609375 56 \r\nQ 40.484375 56 46.34375 49.84375 \r\nQ 52.203125 43.703125 52.203125 31.203125 \r\nz\r\n\" id=\"DejaVuSans-97\"/>\r\n      <path d=\"M 52 44.1875 \r\nQ 55.375 50.25 60.0625 53.125 \r\nQ 64.75 56 71.09375 56 \r\nQ 79.640625 56 84.28125 50.015625 \r\nQ 88.921875 44.046875 88.921875 33.015625 \r\nL 88.921875 0 \r\nL 79.890625 0 \r\nL 79.890625 32.71875 \r\nQ 79.890625 40.578125 77.09375 44.375 \r\nQ 74.3125 48.1875 68.609375 48.1875 \r\nQ 61.625 48.1875 57.5625 43.546875 \r\nQ 53.515625 38.921875 53.515625 30.90625 \r\nL 53.515625 0 \r\nL 44.484375 0 \r\nL 44.484375 32.71875 \r\nQ 44.484375 40.625 41.703125 44.40625 \r\nQ 38.921875 48.1875 33.109375 48.1875 \r\nQ 26.21875 48.1875 22.15625 43.53125 \r\nQ 18.109375 38.875 18.109375 30.90625 \r\nL 18.109375 0 \r\nL 9.078125 0 \r\nL 9.078125 54.6875 \r\nL 18.109375 54.6875 \r\nL 18.109375 46.1875 \r\nQ 21.1875 51.21875 25.484375 53.609375 \r\nQ 29.78125 56 35.6875 56 \r\nQ 41.65625 56 45.828125 52.96875 \r\nQ 50 49.953125 52 44.1875 \r\nz\r\n\" id=\"DejaVuSans-109\"/>\r\n     </defs>\r\n     <use xlink:href=\"#DejaVuSans-67\"/>\r\n     <use x=\"69.824219\" xlink:href=\"#DejaVuSans-111\"/>\r\n     <use x=\"131.005859\" xlink:href=\"#DejaVuSans-108\"/>\r\n     <use x=\"158.789062\" xlink:href=\"#DejaVuSans-111\"/>\r\n     <use x=\"219.970703\" xlink:href=\"#DejaVuSans-117\"/>\r\n     <use x=\"283.349609\" xlink:href=\"#DejaVuSans-114\"/>\r\n     <use x=\"324.462891\" xlink:href=\"#DejaVuSans-32\"/>\r\n     <use x=\"356.25\" xlink:href=\"#DejaVuSans-72\"/>\r\n     <use x=\"431.445312\" xlink:href=\"#DejaVuSans-105\"/>\r\n     <use x=\"459.228516\" xlink:href=\"#DejaVuSans-115\"/>\r\n     <use x=\"511.328125\" xlink:href=\"#DejaVuSans-116\"/>\r\n     <use x=\"550.537109\" xlink:href=\"#DejaVuSans-111\"/>\r\n     <use x=\"611.71875\" xlink:href=\"#DejaVuSans-103\"/>\r\n     <use x=\"675.195312\" xlink:href=\"#DejaVuSans-114\"/>\r\n     <use x=\"716.308594\" xlink:href=\"#DejaVuSans-97\"/>\r\n     <use x=\"777.587891\" xlink:href=\"#DejaVuSans-109\"/>\r\n    </g>\r\n   </g>\r\n  </g>\r\n </g>\r\n <defs>\r\n  <clipPath id=\"pb1a8292ec2\">\r\n   <rect height=\"217.44\" width=\"334.8\" x=\"46.965625\" y=\"22.318125\"/>\r\n  </clipPath>\r\n </defs>\r\n</svg>\r\n",
      "image/png": "[encoded data removed]"
     },
     "metadata": {
      "needs_background": "light"
     }
    },
    {
     "output_type": "execute_result",
     "data": {
      "text/plain": [
       "-1"
      ]
     },
     "metadata": {},
     "execution_count": 22
    }
   ],
   "source": [
    "import cv2 as cv\n",
    "import matplotlib.pyplot as plt\n",
    "import numpy as np\n",
    "\n",
    "img = cv.imread(r'Resources\\Photos\\cats.jpg')\n",
    "cv.imshow('Cats', img)\n",
    "\n",
    "blank = np.zeros(img.shape[:2], dtype='uint8')\n",
    "\n",
    "# gray = cv.cvtColor(img, cv.COLOR_BGR2GRAY)\n",
    "# cv.imshow('Gray', gray)\n",
    "\n",
    "mask = cv.circle(blank, (img.shape[1]//2,img.shape[0]//2), 100, 255, -1)\n",
    "\n",
    "masked = cv.bitwise_and(img,img,mask=mask)\n",
    "cv.imshow('Mask', masked)\n",
    "\n",
    "# GRayscale histogram\n",
    "# gray_hist = cv.calcHist([gray], [0], mask, [256], [0,256] )\n",
    "\n",
    "# plt.figure()\n",
    "# plt.title('Grayscale Histogram')\n",
    "# plt.xlabel('Bins')\n",
    "# plt.ylabel('# of pixels')\n",
    "# plt.plot(gray_hist)\n",
    "# plt.xlim([0,256])\n",
    "# plt.show()\n",
    "\n",
    "# Colour Histogram\n",
    "\n",
    "plt.figure()\n",
    "plt.title('Colour Histogram')\n",
    "plt.xlabel('Bins')\n",
    "plt.ylabel('# of pixels')\n",
    "colors = ('b', 'g', 'r')\n",
    "for i,col in enumerate(colors):\n",
    "    hist = cv.calcHist([img], [i], mask, [256], [0,256])\n",
    "    plt.plot(hist, color=col)\n",
    "    plt.xlim([0,256])\n",
    "\n",
    "plt.show()\n",
    "\n",
    "cv.waitKey(0)"
   ]
  },
  {
   "source": [
    "## Thresholding/Binarizing Images"
   ],
   "cell_type": "markdown",
   "metadata": {}
  },
  {
   "cell_type": "code",
   "execution_count": 28,
   "metadata": {},
   "outputs": [
    {
     "output_type": "execute_result",
     "data": {
      "text/plain": [
       "-1"
      ]
     },
     "metadata": {},
     "execution_count": 28
    }
   ],
   "source": [
    "import cv2 as cv\n",
    "import matplotlib.pyplot as plt\n",
    "import numpy as np\n",
    "\n",
    "img = cv.imread(r'Resources\\Photos\\cats.jpg')\n",
    "cv.imshow('Cats', img)\n",
    "\n",
    "gray = cv.cvtColor(img, cv.COLOR_BGR2GRAY)\n",
    "cv.imshow('gray', gray)\n",
    "\n",
    "# Simple thresholding\n",
    "threshold, thresh = cv.threshold(gray, 150, 255, cv.THRESH_BINARY)\n",
    "cv.imshow('Simple thresholding', thresh)\n",
    "\n",
    "threshold, thresh_inv = cv.threshold(gray, 150, 255, cv.THRESH_BINARY_INV)\n",
    "cv.imshow('Simple thresholding', thresh_inv)\n",
    "\n",
    "## Adaptive thresholding\n",
    "adpaive_thresh = cv.adaptiveThreshold(gray, 255, cv.ADAPTIVE_THRESH_MEAN_C, cv.THRESH_BINARY_INV, 11, 3)\n",
    "cv.imshow('adaptive thresholding', adpaive_thresh)\n",
    "\n",
    "cv.waitKey(0)"
   ]
  },
  {
   "source": [
    "## Edge Detection"
   ],
   "cell_type": "markdown",
   "metadata": {}
  },
  {
   "cell_type": "code",
   "execution_count": 29,
   "metadata": {},
   "outputs": [
    {
     "output_type": "execute_result",
     "data": {
      "text/plain": [
       "-1"
      ]
     },
     "metadata": {},
     "execution_count": 29
    }
   ],
   "source": [
    "import cv2 as cv\n",
    "import numpy as np\n",
    "\n",
    "img = cv.imread(r'Resources\\Photos\\park.jpg')\n",
    "cv.imshow('Park', img)\n",
    "\n",
    "gray = cv.cvtColor(img, cv.COLOR_BGR2GRAY)\n",
    "cv.imshow('Gray', gray)\n",
    "\n",
    "# Laplacian\n",
    "lap = cv.Laplacian(gray, cv.CV_64F)\n",
    "lap = np.uint8(np.absolute(lap))\n",
    "cv.imshow('Laplacian', lap)\n",
    "\n",
    "# Sobel \n",
    "sobelx = cv.Sobel(gray, cv.CV_64F, 1, 0)\n",
    "sobely = cv.Sobel(gray, cv.CV_64F, 0, 1)\n",
    "combined_sobel = cv.bitwise_or(sobelx, sobely)\n",
    "\n",
    "cv.imshow('Sobel X', sobelx)\n",
    "cv.imshow('Sobel Y', sobely)\n",
    "cv.imshow('Combined Sobel', combined_sobel)\n",
    "\n",
    "canny = cv.Canny(gray, 150, 175)\n",
    "cv.imshow('Canny', canny)\n",
    "cv.waitKey(0)"
   ]
  },
  {
   "cell_type": "code",
   "execution_count": null,
   "metadata": {},
   "outputs": [],
   "source": []
  }
 ]
}